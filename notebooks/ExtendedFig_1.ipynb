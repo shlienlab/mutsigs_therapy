{
 "cells": [
  {
   "cell_type": "markdown",
   "metadata": {},
   "source": [
    "\n",
    "-----\n",
    "#### MS: Unique patterns of mutations in childhood cancer highlight chemotherapy’s disease-defining role at relapse\n",
    "### Extended Data Figure 1\n",
    "-----"
   ]
  },
  {
   "cell_type": "code",
   "execution_count": 1,
   "metadata": {},
   "outputs": [],
   "source": [
    "import pandas as pd\n",
    "import numpy as np\n",
    "\n",
    "import matplotlib.pyplot as plt\n",
    "import seaborn as sns\n",
    "import plotly.express as px\n",
    "\n",
    "import os\n",
    "import sys"
   ]
  },
  {
   "cell_type": "markdown",
   "metadata": {},
   "source": [
    "-----\n",
    "##### Set up input / output directories"
   ]
  },
  {
   "cell_type": "code",
   "execution_count": 2,
   "metadata": {},
   "outputs": [],
   "source": [
    "## Provide an output directory for figures or use 'installation_folder/figures' directory\n",
    "root_dir = os.path.dirname(os.getcwd())\n",
    "fig_out = os.path.join(root_dir, 'figures')\n",
    "## Or provide a results path\n",
    "#fig_out = '/Users/dir1/dir2/Figures'"
   ]
  },
  {
   "cell_type": "markdown",
   "metadata": {},
   "source": [
    "-----\n",
    "##### Import patients metadata"
   ]
  },
  {
   "cell_type": "code",
   "execution_count": 4,
   "metadata": {},
   "outputs": [],
   "source": [
    "## Load patients metadata\n",
    "kzm611_md = pd.read_csv(os.path.join(root_dir, 'source_data/KZM_md.tsv'), sep='\\t', index_col=0)\n",
    "low_samples = kzm611_md[kzm611_md.Burden=='low'].index.tolist()"
   ]
  },
  {
   "cell_type": "markdown",
   "metadata": {},
   "source": [
    "-----\n",
    "## Panel a"
   ]
  },
  {
   "cell_type": "code",
   "execution_count": 8,
   "metadata": {},
   "outputs": [
    {
     "data": {
      "text/html": [
       "<div>\n",
       "<style scoped>\n",
       "    .dataframe tbody tr th:only-of-type {\n",
       "        vertical-align: middle;\n",
       "    }\n",
       "\n",
       "    .dataframe tbody tr th {\n",
       "        vertical-align: top;\n",
       "    }\n",
       "\n",
       "    .dataframe thead th {\n",
       "        text-align: right;\n",
       "    }\n",
       "</style>\n",
       "<table border=\"1\" class=\"dataframe\">\n",
       "  <thead>\n",
       "    <tr style=\"text-align: right;\">\n",
       "      <th></th>\n",
       "      <th>Sample_id2</th>\n",
       "      <th>Cohort</th>\n",
       "      <th>Sex</th>\n",
       "      <th>Age</th>\n",
       "      <th>Years</th>\n",
       "    </tr>\n",
       "    <tr>\n",
       "      <th>Sample_id</th>\n",
       "      <th></th>\n",
       "      <th></th>\n",
       "      <th></th>\n",
       "      <th></th>\n",
       "      <th></th>\n",
       "    </tr>\n",
       "  </thead>\n",
       "  <tbody>\n",
       "    <tr>\n",
       "      <th>IID_H158271_T01_01_WG01</th>\n",
       "      <td>IID_H158271_T01</td>\n",
       "      <td>MSK</td>\n",
       "      <td>Female</td>\n",
       "      <td>408.0</td>\n",
       "      <td>1.117808</td>\n",
       "    </tr>\n",
       "    <tr>\n",
       "      <th>IID_H158493_T01_01_WG01</th>\n",
       "      <td>IID_H158493_T01</td>\n",
       "      <td>MSK</td>\n",
       "      <td>Male</td>\n",
       "      <td>5829.0</td>\n",
       "      <td>15.969863</td>\n",
       "    </tr>\n",
       "  </tbody>\n",
       "</table>\n",
       "</div>"
      ],
      "text/plain": [
       "                              Sample_id2 Cohort     Sex     Age      Years\n",
       "Sample_id                                                                 \n",
       "IID_H158271_T01_01_WG01  IID_H158271_T01    MSK  Female   408.0   1.117808\n",
       "IID_H158493_T01_01_WG01  IID_H158493_T01    MSK    Male  5829.0  15.969863"
      ]
     },
     "execution_count": 8,
     "metadata": {},
     "output_type": "execute_result"
    }
   ],
   "source": [
    "KZM_age = pd.read_csv(os.path.join(root_dir, 'source_data/KZM_age.tsv'), sep='\\t', index_col=0)\n",
    "KZM_age['Years'] = KZM_age.Age / 365\n",
    "KZM_age.tail(2)"
   ]
  },
  {
   "cell_type": "code",
   "execution_count": 5,
   "metadata": {},
   "outputs": [
    {
     "data": {
      "application/vnd.plotly.v1+json": {
       "config": {
        "plotlyServerURL": "https://plot.ly"
       },
       "data": [
        {
         "alignmentgroup": "True",
         "bingroup": "x",
         "hovertemplate": "Sex=Female<br>Years=%{x}<br>count=%{y}<extra></extra>",
         "legendgroup": "Female",
         "marker": {
          "color": "#636efa",
          "pattern": {
           "shape": ""
          }
         },
         "name": "Female",
         "offsetgroup": "Female",
         "orientation": "v",
         "showlegend": true,
         "type": "histogram",
         "x": [
          14.632876712328768,
          2.526027397260274,
          2.526027397260274,
          2.526027397260274,
          0.2,
          0.2,
          6.364383561643836,
          0.8657534246575342,
          2.5561643835616437,
          2.5561643835616437,
          13.608219178082193,
          13.191780821917808,
          4.3123287671232875,
          9.482191780821918,
          9.712328767123287,
          9.712328767123287,
          9.712328767123287,
          13.241095890410959,
          8.736986301369862,
          5.243835616438356,
          5.243835616438356,
          18.934246575342467,
          0.273972602739726,
          2.1890410958904107,
          4.967123287671233,
          4.967123287671233,
          1.7821917808219179,
          7.816438356164384,
          7.816438356164384,
          7.816438356164384,
          7.1287671232876715,
          5.232876712328767,
          3.756164383561644,
          13.224657534246575,
          13.224657534246575,
          11.520547945205479,
          11.520547945205479,
          11.520547945205479,
          11.520547945205479,
          4.232876712328767,
          11.947945205479453,
          11.947945205479453,
          1.1835616438356165,
          1.1835616438356165,
          5.7753424657534245,
          5.841095890410959,
          0.6986301369863014,
          14.67123287671233,
          1.3506849315068492,
          0.3232876712328767,
          13.805479452054794,
          1.9342465753424658,
          4.364383561643836,
          0.29315068493150687,
          2.736986301369863,
          10.01917808219178,
          5.438356164383562,
          1.63013698630137,
          17.416438356164385,
          5.273972602739726,
          5.273972602739726,
          2.684931506849315,
          12.64931506849315,
          2.249315068493151,
          14.257534246575343,
          14.257534246575343,
          2.728767123287671,
          2.728767123287671,
          2.728767123287671,
          26.732876712328768,
          12.791780821917808,
          7.632876712328767,
          16.232876712328768,
          16.232876712328768,
          16.232876712328768,
          11.164383561643836,
          2.4712328767123286,
          16.5972602739726,
          16.5972602739726,
          5.578082191780822,
          1.9726027397260273,
          9.695890410958905,
          9.035616438356165,
          12.761643835616438,
          11.416438356164383,
          2.9945205479452053,
          5.043835616438356,
          11.224657534246575,
          11.224657534246575,
          13.167123287671233,
          6.032876712328767,
          6.476712328767123,
          2.8602739726027395,
          2.8602739726027395,
          5.627397260273972,
          5.627397260273972,
          7.890410958904109,
          13.301369863013699,
          8.687671232876712,
          0.6219178082191781,
          2.3808219178082193,
          9.53972602739726,
          14.745205479452055,
          13.772602739726027,
          12.523287671232877,
          12.523287671232877,
          0.36164383561643837,
          10.098630136986301,
          13.117808219178082,
          13.117808219178082,
          0.9917808219178083,
          16.328767123287673,
          17.506849315068493,
          21.75068493150685,
          20.15068493150685,
          2.4465753424657533,
          2.1835616438356165,
          5.2,
          2.2958904109589042,
          22.208219178082192,
          1.4904109589041097,
          1.4821917808219178,
          3.6054794520547944,
          11,
          4,
          4,
          6,
          16,
          14,
          7,
          13,
          14,
          1,
          1,
          12,
          13,
          9,
          17,
          12,
          5,
          1,
          0.0027397260273972603,
          14,
          15,
          1,
          4,
          3,
          3,
          13,
          8,
          9,
          1,
          5,
          8,
          14,
          2,
          9,
          1,
          9,
          2,
          14,
          1,
          21,
          0.0027397260273972603,
          6,
          6,
          11,
          9,
          16,
          17,
          14,
          14,
          12,
          4,
          9,
          1,
          0.0027397260273972603,
          13,
          15,
          4,
          1,
          9,
          9,
          17,
          17,
          14,
          7,
          2,
          15,
          15,
          14,
          14,
          2,
          6,
          14,
          6,
          2,
          4,
          4,
          17,
          14,
          15,
          14,
          0.0027397260273972603,
          4,
          0.0027397260273972603,
          4,
          2,
          16,
          0.0027397260273972603,
          1,
          0.0027397260273972603,
          0.0027397260273972603,
          4,
          9,
          0.0027397260273972603,
          0.0027397260273972603,
          15,
          17,
          3,
          7,
          2,
          15,
          1,
          1,
          3,
          6,
          2,
          3,
          0.0027397260273972603,
          10,
          2,
          20,
          3,
          4,
          14,
          15,
          5,
          11,
          9,
          8,
          14,
          11,
          2,
          5,
          5,
          21,
          17,
          17,
          0.0027397260273972603,
          9.58904109589041,
          16.076712328767123,
          12.597260273972603,
          1.358904109589041,
          0.7972602739726027,
          24.087671232876712,
          17.526027397260275,
          17.526027397260275,
          18.0986301369863,
          16.44931506849315,
          16.372602739726027,
          12.452054794520548,
          10.43013698630137,
          2.0273972602739727,
          14.175342465753424,
          12.383561643835616,
          2.3013698630136985,
          14.4,
          0.2465753424657534,
          3.6054794520547944,
          12.2,
          12.2,
          10.35890410958904,
          1.1178082191780823
         ],
         "xaxis": "x",
         "yaxis": "y"
        },
        {
         "alignmentgroup": "True",
         "customdata": [
          [
           "KiCS0002_1",
           "KiCS",
           "Female",
           5341
          ],
          [
           "KiCS0003_1",
           "KiCS",
           "Female",
           922
          ],
          [
           "KiCS0003_2",
           "KiCS",
           "Female",
           922
          ],
          [
           "KiCS0003_3",
           "KiCS",
           "Female",
           922
          ],
          [
           "KiCS0005_1",
           "KiCS",
           "Female",
           73
          ],
          [
           "KiCS0005_2",
           "KiCS",
           "Female",
           73
          ],
          [
           "KiCS0006_1",
           "KiCS",
           "Female",
           2323
          ],
          [
           "KiCS0014_1",
           "KiCS",
           "Female",
           316
          ],
          [
           "KiCS0025_1",
           "KiCS",
           "Female",
           933
          ],
          [
           "KiCS0025_2",
           "KiCS",
           "Female",
           933
          ],
          [
           "KiCS0030_1",
           "KiCS",
           "Female",
           4967
          ],
          [
           "KiCS0032_1",
           "KiCS",
           "Female",
           4815
          ],
          [
           "KiCS0032_2",
           "KiCS",
           "Female",
           1574
          ],
          [
           "KiCS0035_1",
           "KiCS",
           "Female",
           3461
          ],
          [
           "KiCS0035_2",
           "KiCS",
           "Female",
           3545
          ],
          [
           "KiCS0035_3",
           "KiCS",
           "Female",
           3545
          ],
          [
           "KiCS0035_4",
           "KiCS",
           "Female",
           3545
          ],
          [
           "KiCS0037_1",
           "KiCS",
           "Female",
           4833
          ],
          [
           "KiCS0044_1",
           "KiCS",
           "Female",
           3189
          ],
          [
           "KiCS0048_1",
           "KiCS",
           "Female",
           1914
          ],
          [
           "KiCS0048_2",
           "KiCS",
           "Female",
           1914
          ],
          [
           "KiCS0062_1",
           "KiCS",
           "Female",
           6911
          ],
          [
           "KiCS0067_1",
           "KiCS",
           "Female",
           100
          ],
          [
           "KiCS0068_1",
           "KiCS",
           "Female",
           799
          ],
          [
           "KiCS0069_1",
           "KiCS",
           "Female",
           1813
          ],
          [
           "KiCS0069_2",
           "KiCS",
           "Female",
           1813
          ],
          [
           "KiCS0070_1",
           "KiCS",
           "Female",
           650.5
          ],
          [
           "KiCS0074_1",
           "KiCS",
           "Female",
           2853
          ],
          [
           "KiCS0074_2",
           "KiCS",
           "Female",
           2853
          ],
          [
           "KiCS0074_3",
           "KiCS",
           "Female",
           2853
          ],
          [
           "KiCS0079_1",
           "KiCS",
           "Female",
           2602
          ],
          [
           "KiCS0085_1",
           "KiCS",
           "Female",
           1910
          ],
          [
           "KiCS0086_1",
           "KiCS",
           "Female",
           1371
          ],
          [
           "KiCS0087_1",
           "KiCS",
           "Female",
           4827
          ],
          [
           "KiCS0087_2",
           "KiCS",
           "Female",
           4827
          ],
          [
           "KiCS0092_1",
           "KiCS",
           "Female",
           4205
          ],
          [
           "KiCS0092_2",
           "KiCS",
           "Female",
           4205
          ],
          [
           "KiCS0092_3",
           "KiCS",
           "Female",
           4205
          ],
          [
           "KiCS0092_4",
           "KiCS",
           "Female",
           4205
          ],
          [
           "KiCS0096_1",
           "KiCS",
           "Female",
           1545
          ],
          [
           "KiCS0098_1",
           "KiCS",
           "Female",
           4361
          ],
          [
           "KiCS0098_2",
           "KiCS",
           "Female",
           4361
          ],
          [
           "KiCS0104_1",
           "KiCS",
           "Female",
           432
          ],
          [
           "KiCS0104_2",
           "KiCS",
           "Female",
           432
          ],
          [
           "KiCS0106_1",
           "KiCS",
           "Female",
           2108
          ],
          [
           "KiCS0107_1",
           "KiCS",
           "Female",
           2132
          ],
          [
           "KiCS0110_1",
           "KiCS",
           "Female",
           255
          ],
          [
           "KiCS0115_1",
           "KiCS",
           "Female",
           5355
          ],
          [
           "KiCS0118_1",
           "KiCS",
           "Female",
           493
          ],
          [
           "KiCS0119_1",
           "KiCS",
           "Female",
           118
          ],
          [
           "KiCS0125_1",
           "KiCS",
           "Female",
           5039
          ],
          [
           "KiCS0136_1",
           "KiCS",
           "Female",
           706
          ],
          [
           "KiCS0145_1",
           "KiCS",
           "Female",
           1593
          ],
          [
           "KiCS0150_1",
           "KiCS",
           "Female",
           107
          ],
          [
           "KiCS0152_1",
           "KiCS",
           "Female",
           999
          ],
          [
           "KiCS0156_1",
           "KiCS",
           "Female",
           3657
          ],
          [
           "KiCS0158_1",
           "KiCS",
           "Female",
           1985
          ],
          [
           "KiCS0165_1",
           "KiCS",
           "Female",
           595
          ],
          [
           "KiCS0167_1",
           "KiCS",
           "Female",
           6357
          ],
          [
           "KiCS0171_1",
           "KiCS",
           "Female",
           1925
          ],
          [
           "KiCS0171_2",
           "KiCS",
           "Female",
           1925
          ],
          [
           "KiCS0182_1",
           "KiCS",
           "Female",
           980
          ],
          [
           "KiCS0184_1",
           "KiCS",
           "Female",
           4617
          ],
          [
           "KiCS0192_1",
           "KiCS",
           "Female",
           821
          ],
          [
           "KiCS0193_1",
           "KiCS",
           "Female",
           5204
          ],
          [
           "KiCS0193_2",
           "KiCS",
           "Female",
           5204
          ],
          [
           "KiCS0197_1",
           "KiCS",
           "Female",
           996
          ],
          [
           "KiCS0197_2",
           "KiCS",
           "Female",
           996
          ],
          [
           "KiCS0197_3",
           "KiCS",
           "Female",
           996
          ],
          [
           "KiCS0198_1",
           "KiCS",
           "Female",
           9757.5
          ],
          [
           "KiCS0204_1",
           "KiCS",
           "Female",
           4669
          ],
          [
           "KiCS0219_1",
           "KiCS",
           "Female",
           2786
          ],
          [
           "KiCS0220_1",
           "KiCS",
           "Female",
           5925
          ],
          [
           "KiCS0220_2",
           "KiCS",
           "Female",
           5925
          ],
          [
           "KiCS0220_3",
           "KiCS",
           "Female",
           5925
          ],
          [
           "KiCS0222_1",
           "KiCS",
           "Female",
           4075
          ],
          [
           "KiCS0225_1",
           "KiCS",
           "Female",
           902
          ],
          [
           "KiCS0228_2",
           "KiCS",
           "Female",
           6058
          ],
          [
           "KiCS0228_1",
           "KiCS",
           "Female",
           6058
          ],
          [
           "KiCS0231_1",
           "KiCS",
           "Female",
           2036
          ],
          [
           "KiCS0239_1",
           "KiCS",
           "Female",
           720
          ],
          [
           "KiCS0240_1",
           "KiCS",
           "Female",
           3539
          ],
          [
           "KiCS0252_1",
           "KiCS",
           "Female",
           3298
          ],
          [
           "KiCS0259_1",
           "KiCS",
           "Female",
           4658
          ],
          [
           "KiCS0261_1",
           "KiCS",
           "Female",
           4167
          ],
          [
           "KiCS0263_1",
           "KiCS",
           "Female",
           1093
          ],
          [
           "KiCS0272_1",
           "KiCS",
           "Female",
           1841
          ],
          [
           "KiCS0277_2",
           "KiCS",
           "Female",
           4097
          ],
          [
           "KiCS0277_1",
           "KiCS",
           "Female",
           4097
          ],
          [
           "KiCS0281_1",
           "KiCS",
           "Female",
           4806
          ],
          [
           "KiCS0285_1",
           "KiCS",
           "Female",
           2202
          ],
          [
           "KiCS0293_1",
           "KiCS",
           "Female",
           2364
          ],
          [
           "KiCS0295_1",
           "KiCS",
           "Female",
           1044
          ],
          [
           "KiCS0295_2",
           "KiCS",
           "Female",
           1044
          ],
          [
           "KiCS0298_2",
           "KiCS",
           "Female",
           2054
          ],
          [
           "KiCS0298_1",
           "KiCS",
           "Female",
           2054
          ],
          [
           "KiCS0302_1",
           "KiCS",
           "Female",
           2880
          ],
          [
           "KiCS0310_1",
           "KiCS",
           "Female",
           4855
          ],
          [
           "KiCS0314_1",
           "KiCS",
           "Female",
           3171
          ],
          [
           "KiCS0323_1",
           "KiCS",
           "Female",
           227
          ],
          [
           "KiCS0324_1",
           "KiCS",
           "Female",
           869
          ],
          [
           "KiCS0326_1",
           "KiCS",
           "Female",
           3482
          ],
          [
           "KiCS0329_1",
           "KiCS",
           "Female",
           5382
          ],
          [
           "KiCS0332_1",
           "KiCS",
           "Female",
           5027
          ],
          [
           "KiCS0333_1",
           "KiCS",
           "Female",
           4571
          ],
          [
           "KiCS0333_2",
           "KiCS",
           "Female",
           4571
          ],
          [
           "KiCS0337_1",
           "KiCS",
           "Female",
           132
          ],
          [
           "KiCS0339_1",
           "KiCS",
           "Female",
           3686
          ],
          [
           "KiCS0345_1",
           "KiCS",
           "Female",
           4788
          ],
          [
           "KiCS0345_2",
           "KiCS",
           "Female",
           4788
          ],
          [
           "KiCS0349_1",
           "KiCS",
           "Female",
           362
          ],
          [
           "KiCS0354_1",
           "KiCS",
           "Female",
           5960
          ],
          [
           "KiCS0356_1",
           "KiCS",
           "Female",
           6390
          ],
          [
           "KiCS0358_1",
           "KiCS",
           "Female",
           7939
          ],
          [
           "KiCS0359_1",
           "KiCS",
           "Female",
           7355
          ],
          [
           "KiCS0361_1",
           "KiCS",
           "Female",
           893
          ],
          [
           "KiCS0362_1",
           "KiCS",
           "Female",
           797
          ],
          [
           "KiCS0370_1",
           "KiCS",
           "Female",
           1898
          ],
          [
           "KiCS0371_1",
           "KiCS",
           "Female",
           838
          ],
          [
           "KiCS0375_1",
           "KiCS",
           "Female",
           8106
          ],
          [
           "KiCS0376_1",
           "KiCS",
           "Female",
           544
          ],
          [
           "KiCS0383_1",
           "KiCS",
           "Female",
           541
          ],
          [
           "KiCS0487_1",
           "KiCS",
           "Female",
           1316
          ],
          [
           "LKCGP-P000101-244105-01-01-01-D1",
           "ZCC",
           "Female",
           4015
          ],
          [
           "LKCGP-P000102-248287-01-01-01-D1",
           "ZCC",
           "Female",
           1460
          ],
          [
           "LKCGP-P000103-246820-01-03-01-D1",
           "ZCC",
           "Female",
           1460
          ],
          [
           "LKCGP-P000104-250304-01-06-01-D1",
           "ZCC",
           "Female",
           2190
          ],
          [
           "LKCGP-P000107-257820-01-04-01-D1",
           "ZCC",
           "Female",
           5840
          ],
          [
           "LKCGP-P000203-245823-01-04-01-R1",
           "ZCC",
           "Female",
           5110
          ],
          [
           "LKCGP-P000206-245229-01-04-01-R3",
           "ZCC",
           "Female",
           2555
          ],
          [
           "LKCGP-P000208-256832-01-01-01-D1",
           "ZCC",
           "Female",
           4745
          ],
          [
           "LKCGP-P000303-248216-01-04-01-P3",
           "ZCC",
           "Female",
           5110
          ],
          [
           "LKCGP-P000305-251503-01-02-01-D2",
           "ZCC",
           "Female",
           365
          ],
          [
           "LKCGP-P000305-251504-01-02-05-D1",
           "ZCC",
           "Female",
           365
          ],
          [
           "LKCGP-P000306-244703-01-04-01-R2",
           "ZCC",
           "Female",
           4380
          ],
          [
           "LKCGP-P000308-257986-01-04-20-R1",
           "ZCC",
           "Female",
           4745
          ],
          [
           "LKCGP-P000404-257958-01-01-01-P2",
           "ZCC",
           "Female",
           3285
          ],
          [
           "LKCGP-P000405-261706-01-04-01-D1",
           "ZCC",
           "Female",
           6205
          ],
          [
           "LKCGP-P000406-244901-03-04-01-D1",
           "ZCC",
           "Female",
           4380
          ],
          [
           "LKCGP-P000407-255560-01-03-01-R2",
           "ZCC",
           "Female",
           1825
          ],
          [
           "LKCGP-P000503-255087-01-06-01-D1",
           "ZCC",
           "Female",
           365
          ],
          [
           "LKCGP-P000508-260304-01-04-01-D1",
           "ZCC",
           "Female",
           1
          ],
          [
           "LKCGP-P000601-245664-01-06-01-D1",
           "ZCC",
           "Female",
           5110
          ],
          [
           "LKCGP-P000602-250784-01-04-01-D1",
           "ZCC",
           "Female",
           5475
          ],
          [
           "LKCGP-P000603-255322-01-06-01-D1",
           "ZCC",
           "Female",
           365
          ],
          [
           "LKCGP-P000606-245909-01-01-01-P1",
           "ZCC",
           "Female",
           1460
          ],
          [
           "LKCGP-P000607-256617-01-02-06-R1",
           "ZCC",
           "Female",
           1095
          ],
          [
           "LKCGP-P000607-256695-01-02-01-R1",
           "ZCC",
           "Female",
           1095
          ],
          [
           "LKCGP-P000702-251072-01-06-01-D1",
           "ZCC",
           "Female",
           4745
          ],
          [
           "LKCGP-P000703-257977-01-01-01-P1",
           "ZCC",
           "Female",
           2920
          ],
          [
           "LKCGP-P000705-269231-01-04-20-D1",
           "ZCC",
           "Female",
           3285
          ],
          [
           "LKCGP-P000706-245879-01-01-01-P1",
           "ZCC",
           "Female",
           365
          ],
          [
           "LKCGP-P000801-247593-01-01-01-R1",
           "ZCC",
           "Female",
           1825
          ],
          [
           "LKCGP-P000806-246360-01-04-01-D1",
           "ZCC",
           "Female",
           2920
          ],
          [
           "LKCGP-P000808-277070-01-02-03-R2",
           "ZCC",
           "Female",
           5110
          ],
          [
           "LKCGP-P000902-252200-01-01-01-D1",
           "ZCC",
           "Female",
           730
          ],
          [
           "LKCGP-P000903-263833-01-01-01-P1",
           "ZCC",
           "Female",
           3285
          ],
          [
           "LKCGP-P001001-248023-01-01-01-R1",
           "ZCC",
           "Female",
           365
          ],
          [
           "LKCGP-P001002-252900-01-01-01-R1",
           "ZCC",
           "Female",
           3285
          ],
          [
           "LKCGP-P001003-265756-01-01-01-D1",
           "ZCC",
           "Female",
           730
          ],
          [
           "LKCGP-P001006-249154-01-02-01-R1",
           "ZCC",
           "Female",
           5110
          ],
          [
           "LKCGP-P001007-260322-01-01-01-D1",
           "ZCC",
           "Female",
           365
          ],
          [
           "LKCGP-P001101-250725-01-03-01-P2",
           "ZCC",
           "Female",
           7665
          ],
          [
           "LKCGP-P001103-270604-01-02-03-R1",
           "ZCC",
           "Female",
           1
          ],
          [
           "LKCGP-P001105-271530-01-01-01-R1",
           "ZCC",
           "Female",
           2190
          ],
          [
           "LKCGP-P001106-249829-01-03-01-R1",
           "ZCC",
           "Female",
           2190
          ],
          [
           "LKCGP-P001201-248752-01-06-01-R1",
           "ZCC",
           "Female",
           4015
          ],
          [
           "LKCGP-P001202-255259-01-01-01-R1",
           "ZCC",
           "Female",
           3285
          ],
          [
           "LKCGP-P001204-263990-01-04-01-D1",
           "ZCC",
           "Female",
           5840
          ],
          [
           "LKCGP-P001205-274088-01-01-01-D1",
           "ZCC",
           "Female",
           6205
          ],
          [
           "LKCGP-P001301-248794-01-01-01-P2",
           "ZCC",
           "Female",
           5110
          ],
          [
           "LKCGP-P001304-264103-01-01-01-D1",
           "ZCC",
           "Female",
           5110
          ],
          [
           "LKCGP-P001305-275257-01-04-01-R1",
           "ZCC",
           "Female",
           4380
          ],
          [
           "LKCGP-P001404-264380-01-01-20-D1",
           "ZCC",
           "Female",
           1460
          ],
          [
           "LKCGP-P001406-256347-01-04-01-R3",
           "ZCC",
           "Female",
           3285
          ],
          [
           "LKCGP-P001407-264193-01-02-01-D1",
           "ZCC",
           "Female",
           365
          ],
          [
           "LKCGP-P001408-312527-01-04-01-R1",
           "ZCC",
           "Female",
           1
          ],
          [
           "LKCGP-P001503-272818-01-04-01-D1",
           "ZCC",
           "Female",
           4745
          ],
          [
           "LKCGP-P001504-265128-01-04-01-R1",
           "ZCC",
           "Female",
           5475
          ],
          [
           "LKCGP-P001505-277736-01-01-01-D1",
           "ZCC",
           "Female",
           1460
          ],
          [
           "LKCGP-P001506-257579-01-02-05-P1",
           "ZCC",
           "Female",
           365
          ],
          [
           "LKCGP-P001601-250893-01-02-09-R1",
           "ZCC",
           "Female",
           3285
          ],
          [
           "LKCGP-P001606-256646-01-01-01-R1",
           "ZCC",
           "Female",
           3285
          ],
          [
           "LKCGP-P001607-265708-01-06-01-D1",
           "ZCC",
           "Female",
           6205
          ],
          [
           "LKCGP-P001607-265709-01-06-21-D2",
           "ZCC",
           "Female",
           6205
          ],
          [
           "LKCGP-P001702-260384-01-06-01-D1",
           "ZCC",
           "Female",
           5110
          ],
          [
           "LKCGP-P001801-255648-01-02-05-R2",
           "ZCC",
           "Female",
           2555
          ],
          [
           "LKCGP-P001804-268871-01-03-01-D1",
           "ZCC",
           "Female",
           730
          ],
          [
           "LKCGP-P001904-268846-01-01-20-D1",
           "ZCC",
           "Female",
           5475
          ],
          [
           "LKCGP-P001906-260072-01-04-01-R1",
           "ZCC",
           "Female",
           5475
          ],
          [
           "LKCGP-P001907-271574-01-06-01-D1",
           "ZCC",
           "Female",
           5110
          ],
          [
           "LKCGP-P002001-256357-01-02-01-R2",
           "ZCC",
           "Female",
           5110
          ],
          [
           "LKCGP-P002007-273584-01-03-05-R1",
           "ZCC",
           "Female",
           730
          ],
          [
           "LKCGP-P002101-256446-01-02-19-R2",
           "ZCC",
           "Female",
           2190
          ],
          [
           "LKCGP-P002102-262924-01-04-01-D1",
           "ZCC",
           "Female",
           5110
          ],
          [
           "LKCGP-P002104-269055-01-04-01-D1",
           "ZCC",
           "Female",
           2190
          ],
          [
           "LKCGP-P002204-269605-01-03-04-R1",
           "ZCC",
           "Female",
           730
          ],
          [
           "LKCGP-P002501-259744-01-03-05-R1",
           "ZCC",
           "Female",
           1460
          ],
          [
           "LKCGP-P002502-268459-01-02-05-R1",
           "ZCC",
           "Female",
           1460
          ],
          [
           "LKCGP-P002601-260323-01-04-01-P2",
           "ZCC",
           "Female",
           6205
          ],
          [
           "LKCGP-P002704-273230-01-04-01-R2",
           "ZCC",
           "Female",
           5110
          ],
          [
           "LKCGP-P002801-261252-01-02-05-R1",
           "ZCC",
           "Female",
           5475
          ],
          [
           "LKCGP-P003002-273246-01-02-01-P1",
           "ZCC",
           "Female",
           5110
          ],
          [
           "LKCGP-P003101-262198-01-01-21-R2",
           "ZCC",
           "Female",
           1
          ],
          [
           "LKCGP-P003106-274807-01-01-01-P2",
           "ZCC",
           "Female",
           1460
          ],
          [
           "LKCGP-P003201-263868-01-06-01-D1",
           "ZCC",
           "Female",
           1
          ],
          [
           "LKCGP-P003202-273784-01-01-01-D1",
           "ZCC",
           "Female",
           1460
          ],
          [
           "LKCGP-P003302-274819-01-01-01-D1",
           "ZCC",
           "Female",
           730
          ],
          [
           "LKCGP-P003306-273987-01-02-01-D1",
           "ZCC",
           "Female",
           5840
          ],
          [
           "LKCGP-P003402-274814-01-01-01-D1",
           "ZCC",
           "Female",
           1
          ],
          [
           "LKCGP-P003501-266284-01-04-01-D1",
           "ZCC",
           "Female",
           365
          ],
          [
           "LKCGP-P003504-276910-01-01-21-R1",
           "ZCC",
           "Female",
           1
          ],
          [
           "LKCGP-P003506-274441-01-02-05-R1",
           "ZCC",
           "Female",
           1
          ],
          [
           "LKCGP-P003704-277451-01-01-01-D1",
           "ZCC",
           "Female",
           1460
          ],
          [
           "LKCGP-P003901-268344-01-06-01-R1",
           "ZCC",
           "Female",
           3285
          ],
          [
           "LKCGP-P004001-268467-01-01-01-R2",
           "ZCC",
           "Female",
           1
          ],
          [
           "LKCGP-P004001-268560-01-01-01-R1",
           "ZCC",
           "Female",
           1
          ],
          [
           "LKCGP-P004101-269599-01-04-01-R1",
           "ZCC",
           "Female",
           5475
          ],
          [
           "LKCGP-P004104-280143-01-01-01-D1",
           "ZCC",
           "Female",
           6205
          ],
          [
           "LKCGP-P004107-311731-01-03-01-D1",
           "ZCC",
           "Female",
           1095
          ],
          [
           "LKCGP-P004401-270614-01-01-01-D1",
           "ZCC",
           "Female",
           2555
          ],
          [
           "LKCGP-P004402-279901-01-01-01-D1",
           "ZCC",
           "Female",
           730
          ],
          [
           "LKCGP-P004701-273654-01-02-19-R1",
           "ZCC",
           "Female",
           5475
          ],
          [
           "LKCGP-P004804-288456-01-03-01-R1",
           "ZCC",
           "Female",
           365
          ],
          [
           "LKCGP-P005001-275776-01-03-01-R1",
           "ZCC",
           "Female",
           365
          ],
          [
           "LKCGP-P005401-277060-01-01-21-D1",
           "ZCC",
           "Female",
           1095
          ],
          [
           "LKCGP-P005504-294490-01-01-21-R1",
           "ZCC",
           "Female",
           2190
          ],
          [
           "LKCGP-P006104-300166-01-01-01-P1",
           "ZCC",
           "Female",
           730
          ],
          [
           "LKCP-T000301-174312-01-03-01-R1",
           "ZCC",
           "Female",
           1095
          ],
          [
           "LKCP-T000401-030270-02-02-16-R2",
           "ZCC",
           "Female",
           1
          ],
          [
           "LKCP-T000601-028528-01-01-01-R1",
           "ZCC",
           "Female",
           3650
          ],
          [
           "LKCP-T000602-176413-01-03-01-R1",
           "ZCC",
           "Female",
           730
          ],
          [
           "LKCP-T000802-236863-01-01-01-R1",
           "ZCC",
           "Female",
           7300
          ],
          [
           "LKCP-T001002-239333-01-06-01-D1",
           "ZCC",
           "Female",
           1095
          ],
          [
           "LKCGP-T001102-244973-01-01-01-D1",
           "ZCC",
           "Female",
           1460
          ],
          [
           "LKCGP-T001202-245167-01-04-01-D1",
           "ZCC",
           "Female",
           5110
          ],
          [
           "LKCP-T001701-030976-01-04-01-R1",
           "ZCC",
           "Female",
           5475
          ],
          [
           "LKCP-T001801-031023-07-02-05-R1",
           "ZCC",
           "Female",
           1825
          ],
          [
           "LKCP-T002301-031556-06-02-09-D1",
           "ZCC",
           "Female",
           4015
          ],
          [
           "LKCP-T002401-031582-01-01-01-D1",
           "ZCC",
           "Female",
           3285
          ],
          [
           "LKCP-T002501-164590-01-01-01-P2",
           "ZCC",
           "Female",
           2920
          ],
          [
           "LKCP-T002801-167757-01-01-01-R1",
           "ZCC",
           "Female",
           5110
          ],
          [
           "LKCP-T003001-168602-01-01-01-D1",
           "ZCC",
           "Female",
           4015
          ],
          [
           "LKCP-T003101-169491-01-01-01-R1",
           "ZCC",
           "Female",
           730
          ],
          [
           "LKCP-T003801-175631-01-01-01-D1",
           "ZCC",
           "Female",
           1825
          ],
          [
           "LKCP-T004001-176166-06-06-01-D1",
           "ZCC",
           "Female",
           1825
          ],
          [
           "LKCP-T004601-236658-01-04-01-D1",
           "ZCC",
           "Female",
           7665
          ],
          [
           "LKCP-T004701-237396-01-04-01-D1",
           "ZCC",
           "Female",
           6205
          ],
          [
           "LKCP-T005401-240316-01-04-01-R1",
           "ZCC",
           "Female",
           6205
          ],
          [
           "LKCGP-T005701-242678-01-04-01-D1",
           "ZCC",
           "Female",
           1
          ],
          [
           "I-H-135076-T1-1",
           "MSK",
           "Female",
           3500
          ],
          [
           "IID_H135088_T01",
           "MSK",
           "Female",
           5868
          ],
          [
           "IID_H135462_T01",
           "MSK",
           "Female",
           4598
          ],
          [
           "I-H-135467-T1-2",
           "MSK",
           "Female",
           496
          ],
          [
           "IID_H136424_T01",
           "MSK",
           "Female",
           291
          ],
          [
           "IID_H134753_T01",
           "MSK",
           "Female",
           8792
          ],
          [
           "IID_H134768_T01",
           "MSK",
           "Female",
           6397
          ],
          [
           "IID_H134768_T02",
           "MSK",
           "Female",
           6397
          ],
          [
           "IID_H135068_T05",
           "MSK",
           "Female",
           6606
          ],
          [
           "IID_H135387_T01",
           "MSK",
           "Female",
           6004
          ],
          [
           "IID_H135392_T01",
           "MSK",
           "Female",
           5976
          ],
          [
           "IID_H135965_T01",
           "MSK",
           "Female",
           4545
          ],
          [
           "IID_H135967_T01",
           "MSK",
           "Female",
           3807
          ],
          [
           "IID_H135988_T01",
           "MSK",
           "Female",
           740
          ],
          [
           "IID_H136086_T01",
           "MSK",
           "Female",
           5174
          ],
          [
           "IID_H136433_T07",
           "MSK",
           "Female",
           4520
          ],
          [
           "IID_H136649_T01",
           "MSK",
           "Female",
           840
          ],
          [
           "IID_H156407_T01",
           "MSK",
           "Female",
           5256
          ],
          [
           "IID_H156418_T01",
           "MSK",
           "Female",
           90
          ],
          [
           "IID_H158183_T01",
           "MSK",
           "Female",
           1316
          ],
          [
           "IID_H158186_T01",
           "MSK",
           "Female",
           4453
          ],
          [
           "IID_H158186_T02",
           "MSK",
           "Female",
           4453
          ],
          [
           "IID_H158223_T01",
           "MSK",
           "Female",
           3781
          ],
          [
           "IID_H158271_T01",
           "MSK",
           "Female",
           408
          ]
         ],
         "hovertemplate": "Sex=%{customdata[2]}<br>Years=%{x}<br>Sample_id2=%{customdata[0]}<br>Cohort=%{customdata[1]}<br>Age=%{customdata[3]}<extra></extra>",
         "legendgroup": "Female",
         "marker": {
          "color": "#636efa"
         },
         "name": "Female",
         "notched": true,
         "offsetgroup": "Female",
         "showlegend": false,
         "type": "box",
         "x": [
          14.632876712328768,
          2.526027397260274,
          2.526027397260274,
          2.526027397260274,
          0.2,
          0.2,
          6.364383561643836,
          0.8657534246575342,
          2.5561643835616437,
          2.5561643835616437,
          13.608219178082193,
          13.191780821917808,
          4.3123287671232875,
          9.482191780821918,
          9.712328767123287,
          9.712328767123287,
          9.712328767123287,
          13.241095890410959,
          8.736986301369862,
          5.243835616438356,
          5.243835616438356,
          18.934246575342467,
          0.273972602739726,
          2.1890410958904107,
          4.967123287671233,
          4.967123287671233,
          1.7821917808219179,
          7.816438356164384,
          7.816438356164384,
          7.816438356164384,
          7.1287671232876715,
          5.232876712328767,
          3.756164383561644,
          13.224657534246575,
          13.224657534246575,
          11.520547945205479,
          11.520547945205479,
          11.520547945205479,
          11.520547945205479,
          4.232876712328767,
          11.947945205479453,
          11.947945205479453,
          1.1835616438356165,
          1.1835616438356165,
          5.7753424657534245,
          5.841095890410959,
          0.6986301369863014,
          14.67123287671233,
          1.3506849315068492,
          0.3232876712328767,
          13.805479452054794,
          1.9342465753424658,
          4.364383561643836,
          0.29315068493150687,
          2.736986301369863,
          10.01917808219178,
          5.438356164383562,
          1.63013698630137,
          17.416438356164385,
          5.273972602739726,
          5.273972602739726,
          2.684931506849315,
          12.64931506849315,
          2.249315068493151,
          14.257534246575343,
          14.257534246575343,
          2.728767123287671,
          2.728767123287671,
          2.728767123287671,
          26.732876712328768,
          12.791780821917808,
          7.632876712328767,
          16.232876712328768,
          16.232876712328768,
          16.232876712328768,
          11.164383561643836,
          2.4712328767123286,
          16.5972602739726,
          16.5972602739726,
          5.578082191780822,
          1.9726027397260273,
          9.695890410958905,
          9.035616438356165,
          12.761643835616438,
          11.416438356164383,
          2.9945205479452053,
          5.043835616438356,
          11.224657534246575,
          11.224657534246575,
          13.167123287671233,
          6.032876712328767,
          6.476712328767123,
          2.8602739726027395,
          2.8602739726027395,
          5.627397260273972,
          5.627397260273972,
          7.890410958904109,
          13.301369863013699,
          8.687671232876712,
          0.6219178082191781,
          2.3808219178082193,
          9.53972602739726,
          14.745205479452055,
          13.772602739726027,
          12.523287671232877,
          12.523287671232877,
          0.36164383561643837,
          10.098630136986301,
          13.117808219178082,
          13.117808219178082,
          0.9917808219178083,
          16.328767123287673,
          17.506849315068493,
          21.75068493150685,
          20.15068493150685,
          2.4465753424657533,
          2.1835616438356165,
          5.2,
          2.2958904109589042,
          22.208219178082192,
          1.4904109589041097,
          1.4821917808219178,
          3.6054794520547944,
          11,
          4,
          4,
          6,
          16,
          14,
          7,
          13,
          14,
          1,
          1,
          12,
          13,
          9,
          17,
          12,
          5,
          1,
          0.0027397260273972603,
          14,
          15,
          1,
          4,
          3,
          3,
          13,
          8,
          9,
          1,
          5,
          8,
          14,
          2,
          9,
          1,
          9,
          2,
          14,
          1,
          21,
          0.0027397260273972603,
          6,
          6,
          11,
          9,
          16,
          17,
          14,
          14,
          12,
          4,
          9,
          1,
          0.0027397260273972603,
          13,
          15,
          4,
          1,
          9,
          9,
          17,
          17,
          14,
          7,
          2,
          15,
          15,
          14,
          14,
          2,
          6,
          14,
          6,
          2,
          4,
          4,
          17,
          14,
          15,
          14,
          0.0027397260273972603,
          4,
          0.0027397260273972603,
          4,
          2,
          16,
          0.0027397260273972603,
          1,
          0.0027397260273972603,
          0.0027397260273972603,
          4,
          9,
          0.0027397260273972603,
          0.0027397260273972603,
          15,
          17,
          3,
          7,
          2,
          15,
          1,
          1,
          3,
          6,
          2,
          3,
          0.0027397260273972603,
          10,
          2,
          20,
          3,
          4,
          14,
          15,
          5,
          11,
          9,
          8,
          14,
          11,
          2,
          5,
          5,
          21,
          17,
          17,
          0.0027397260273972603,
          9.58904109589041,
          16.076712328767123,
          12.597260273972603,
          1.358904109589041,
          0.7972602739726027,
          24.087671232876712,
          17.526027397260275,
          17.526027397260275,
          18.0986301369863,
          16.44931506849315,
          16.372602739726027,
          12.452054794520548,
          10.43013698630137,
          2.0273972602739727,
          14.175342465753424,
          12.383561643835616,
          2.3013698630136985,
          14.4,
          0.2465753424657534,
          3.6054794520547944,
          12.2,
          12.2,
          10.35890410958904,
          1.1178082191780823
         ],
         "xaxis": "x2",
         "yaxis": "y2"
        },
        {
         "alignmentgroup": "True",
         "bingroup": "x",
         "hovertemplate": "Sex=Male<br>Years=%{x}<br>count=%{y}<extra></extra>",
         "legendgroup": "Male",
         "marker": {
          "color": "#EF553B",
          "pattern": {
           "shape": ""
          }
         },
         "name": "Male",
         "offsetgroup": "Male",
         "orientation": "v",
         "showlegend": true,
         "type": "histogram",
         "x": [
          13.282191780821918,
          13.243835616438357,
          11.821917808219178,
          11.821917808219178,
          11.821917808219178,
          6.498630136986302,
          6.498630136986302,
          10.452054794520548,
          7.7095890410958905,
          7.7095890410958905,
          7.7095890410958905,
          7.7095890410958905,
          0.38904109589041097,
          0.2191780821917808,
          0.2191780821917808,
          10.104109589041096,
          0.021917808219178082,
          9.084931506849315,
          0.2219178082191781,
          10.947945205479453,
          4.427397260273972,
          4.427397260273972,
          1.3013698630136987,
          1.3013698630136987,
          1.3013698630136987,
          0.547945205479452,
          0.23835616438356164,
          14.90958904109589,
          14.90958904109589,
          8.082191780821917,
          13.26027397260274,
          7.597260273972603,
          0.14246575342465753,
          7.063013698630137,
          7.063013698630137,
          5.901369863013699,
          12.871232876712329,
          9.364383561643836,
          2.7835616438356166,
          17.586301369863012,
          6.780821917808219,
          15.67945205479452,
          9.854794520547944,
          8.312328767123288,
          0.0027397260273972603,
          0.0027397260273972603,
          4.904109589041096,
          12.561643835616438,
          8.2986301369863,
          14.391780821917807,
          6.676712328767123,
          4.252054794520548,
          4.252054794520548,
          18.764383561643836,
          18.764383561643836,
          10.545205479452054,
          7.323287671232877,
          16.55068493150685,
          11.643835616438356,
          15.92054794520548,
          6.542465753424658,
          5.347945205479452,
          11.145205479452056,
          11.594520547945205,
          5.109589041095891,
          4.761643835616439,
          4.761643835616439,
          4.761643835616439,
          0.0027397260273972603,
          14.112328767123287,
          3.9534246575342467,
          12.586301369863014,
          2.5397260273972604,
          14.572602739726028,
          1.2547945205479452,
          18.32054794520548,
          4.961643835616439,
          2.6082191780821917,
          2.6082191780821917,
          2.6082191780821917,
          16.542465753424658,
          16.542465753424658,
          16.542465753424658,
          0.2410958904109589,
          0.2958904109589041,
          2.0931506849315067,
          8.67123287671233,
          3.673972602739726,
          0.7342465753424657,
          14.767123287671232,
          7.906849315068493,
          6.64931506849315,
          8.704109589041096,
          12.161643835616438,
          3.473972602739726,
          3.473972602739726,
          7.186301369863013,
          18.383561643835616,
          6.004109589041096,
          15.03013698630137,
          5.197260273972603,
          5.197260273972603,
          5.197260273972603,
          8.783561643835617,
          15.90958904109589,
          0.46301369863013697,
          25.594520547945205,
          0.9315068493150684,
          2.3315068493150686,
          0.9780821917808219,
          1.917808219178082,
          3.0383561643835617,
          12.32876712328767,
          12.32876712328767,
          12.32876712328767,
          16.167123287671235,
          3.893150684931507,
          7.079452054794521,
          4.501369863013698,
          3.589041095890411,
          12,
          9.734246575342466,
          2.6876712328767125,
          2.6876712328767125,
          3.8986301369863012,
          14.758904109589041,
          17.065753424657533,
          13.997260273972604,
          13.446575342465753,
          17.04931506849315,
          0.44931506849315067,
          7.627397260273972,
          4.794520547945205,
          6.898630136986301,
          6.898630136986301,
          1.2054794520547945,
          2.8383561643835615,
          4.03013698630137,
          16.83013698630137,
          11.03013698630137,
          15.830136986301369,
          0.01643835616438356,
          11.052054794520547,
          11.052054794520547,
          11.917808219178083,
          16.416438356164385,
          16.416438356164385,
          15.871232876712329,
          13.854794520547944,
          13.854794520547944,
          13.12054794520548,
          1.9945205479452055,
          1.9945205479452055,
          16.698630136986303,
          8.517808219178082,
          0.673972602739726,
          2.589041095890411,
          16.046575342465754,
          13.706849315068494,
          7.501369863013698,
          3.419178082191781,
          10.180821917808219,
          4,
          2,
          3,
          7,
          0.0027397260273972603,
          0.0027397260273972603,
          13,
          10,
          5,
          1,
          18,
          5,
          1,
          15,
          0.0027397260273972603,
          9,
          4,
          4,
          8,
          17,
          17,
          15,
          12,
          8,
          3,
          7,
          9,
          15,
          13,
          0.0027397260273972603,
          15,
          17,
          0.0027397260273972603,
          8,
          9,
          11,
          11,
          9,
          13,
          7,
          12,
          7,
          3,
          17,
          2,
          12,
          22,
          9,
          16,
          1,
          1,
          3,
          11,
          11,
          11,
          15,
          12,
          9,
          2,
          15,
          13,
          0.0027397260273972603,
          12,
          17,
          3,
          8,
          11,
          2,
          2,
          5,
          4,
          12,
          13,
          9,
          8,
          15,
          6,
          1,
          13,
          1,
          19,
          4,
          0.0027397260273972603,
          1,
          12,
          7,
          9,
          9,
          16,
          4,
          13,
          17,
          2,
          3,
          3,
          1,
          5,
          14,
          11,
          2,
          1,
          10,
          19,
          12,
          1,
          6,
          0.0027397260273972603,
          11,
          14,
          15,
          13,
          10,
          3,
          17,
          10,
          6,
          7,
          2,
          1,
          3,
          11,
          0.0027397260273972603,
          1,
          17,
          4,
          17,
          12,
          6,
          0.0027397260273972603,
          0.0027397260273972603,
          8,
          9,
          13,
          14,
          14,
          6,
          5,
          2.9123287671232876,
          15.243835616438357,
          11.282191780821918,
          26.912328767123288,
          5.315068493150685,
          4.424657534246576,
          11.512328767123288,
          0.3643835616438356,
          16.44931506849315,
          14.032876712328767,
          4.432876712328767,
          10.542465753424658,
          12.643835616438356,
          2.536986301369863,
          7.47945205479452,
          1.832876712328767,
          18.2,
          11.158904109589042,
          16.61917808219178,
          18.265753424657536,
          17.167123287671235,
          17.41917808219178,
          8.424657534246576,
          19.002739726027396,
          16.13150684931507,
          16.13150684931507,
          3.208219178082192,
          15.967123287671233,
          24.98904109589041,
          18.53150684931507,
          8.473972602739726,
          3.893150684931507,
          10.03013698630137,
          5.068493150684931,
          18.980821917808218,
          10.408219178082192,
          2.6246575342465754,
          15.96986301369863
         ],
         "xaxis": "x",
         "yaxis": "y"
        },
        {
         "alignmentgroup": "True",
         "customdata": [
          [
           "KiCS0007_1",
           "KiCS",
           "Male",
           4848
          ],
          [
           "KiCS0008_1",
           "KiCS",
           "Male",
           4834
          ],
          [
           "KiCS0010_1",
           "KiCS",
           "Male",
           4315
          ],
          [
           "KiCS0010_2",
           "KiCS",
           "Male",
           4315
          ],
          [
           "KiCS0010_3",
           "KiCS",
           "Male",
           4315
          ],
          [
           "KiCS0011_1",
           "KiCS",
           "Male",
           2372
          ],
          [
           "KiCS0011_2",
           "KiCS",
           "Male",
           2372
          ],
          [
           "KiCS0013_1",
           "KiCS",
           "Male",
           3815
          ],
          [
           "KiCS0015_1",
           "KiCS",
           "Male",
           2814
          ],
          [
           "KiCS0015_2",
           "KiCS",
           "Male",
           2814
          ],
          [
           "KiCS0015_3",
           "KiCS",
           "Male",
           2814
          ],
          [
           "KiCS0015_4",
           "KiCS",
           "Male",
           2814
          ],
          [
           "KiCS0016_1",
           "KiCS",
           "Male",
           142
          ],
          [
           "KiCS0017_1",
           "KiCS",
           "Male",
           80
          ],
          [
           "KiCS0017_2",
           "KiCS",
           "Male",
           80
          ],
          [
           "KiCS0018_1",
           "KiCS",
           "Male",
           3688
          ],
          [
           "KiCS0024_1",
           "KiCS",
           "Male",
           8
          ],
          [
           "KiCS0029_1",
           "KiCS",
           "Male",
           3316
          ],
          [
           "KiCS0031_1",
           "KiCS",
           "Male",
           81
          ],
          [
           "KiCS0033_1",
           "KiCS",
           "Male",
           3996
          ],
          [
           "KiCS0036_1",
           "KiCS",
           "Male",
           1616
          ],
          [
           "KiCS0036_2",
           "KiCS",
           "Male",
           1616
          ],
          [
           "KiCS0038_1",
           "KiCS",
           "Male",
           475
          ],
          [
           "KiCS0038_2",
           "KiCS",
           "Male",
           475
          ],
          [
           "KiCS0038_3",
           "KiCS",
           "Male",
           475
          ],
          [
           "KiCS0039_1",
           "KiCS",
           "Male",
           200
          ],
          [
           "KiCS0040_1",
           "KiCS",
           "Male",
           87
          ],
          [
           "KiCS0041_1",
           "KiCS",
           "Male",
           5442
          ],
          [
           "KiCS0041_2",
           "KiCS",
           "Male",
           5442
          ],
          [
           "KiCS0042_1",
           "KiCS",
           "Male",
           2950
          ],
          [
           "KiCS0043_1",
           "KiCS",
           "Male",
           4840
          ],
          [
           "KiCS0045_1",
           "KiCS",
           "Male",
           2773
          ],
          [
           "KiCS0046_1",
           "KiCS",
           "Male",
           52
          ],
          [
           "KiCS0049_1",
           "KiCS",
           "Male",
           2578
          ],
          [
           "KiCS0049_2",
           "KiCS",
           "Male",
           2578
          ],
          [
           "KiCS0050_1",
           "KiCS",
           "Male",
           2154
          ],
          [
           "KiCS0051_1",
           "KiCS",
           "Male",
           4698
          ],
          [
           "KiCS0052_1",
           "KiCS",
           "Male",
           3418
          ],
          [
           "KiCS0055_1",
           "KiCS",
           "Male",
           1016
          ],
          [
           "KiCS0059_1",
           "KiCS",
           "Male",
           6419
          ],
          [
           "KiCS0060_1",
           "KiCS",
           "Male",
           2475
          ],
          [
           "KiCS0061_1",
           "KiCS",
           "Male",
           5723
          ],
          [
           "KiCS0064_1",
           "KiCS",
           "Male",
           3597
          ],
          [
           "KiCS0066_1",
           "KiCS",
           "Male",
           3034
          ],
          [
           "KiCS0076_1",
           "KiCS",
           "Male",
           1
          ],
          [
           "KiCS0076_2",
           "KiCS",
           "Male",
           1
          ],
          [
           "KiCS0078_1",
           "KiCS",
           "Male",
           1790
          ],
          [
           "KiCS0083_1",
           "KiCS",
           "Male",
           4585
          ],
          [
           "KiCS0084_1",
           "KiCS",
           "Male",
           3029
          ],
          [
           "KiCS0088_1",
           "KiCS",
           "Male",
           5253
          ],
          [
           "KiCS0090_1",
           "KiCS",
           "Male",
           2437
          ],
          [
           "KiCS0091_1",
           "KiCS",
           "Male",
           1552
          ],
          [
           "KiCS0091_2",
           "KiCS",
           "Male",
           1552
          ],
          [
           "KiCS0093_1",
           "KiCS",
           "Male",
           6849
          ],
          [
           "KiCS0093_2",
           "KiCS",
           "Male",
           6849
          ],
          [
           "KiCS0095_1",
           "KiCS",
           "Male",
           3849
          ],
          [
           "KiCS0099_1",
           "KiCS",
           "Male",
           2673
          ],
          [
           "KiCS0100_1",
           "KiCS",
           "Male",
           6041
          ],
          [
           "KiCS0101_1",
           "KiCS",
           "Male",
           4250
          ],
          [
           "KiCS0103_1",
           "KiCS",
           "Male",
           5811
          ],
          [
           "KiCS0109_1",
           "KiCS",
           "Male",
           2388
          ],
          [
           "KiCS0111_1",
           "KiCS",
           "Male",
           1952
          ],
          [
           "KiCS0112_1",
           "KiCS",
           "Male",
           4068
          ],
          [
           "KiCS0114_1",
           "KiCS",
           "Male",
           4232
          ],
          [
           "KiCS0116_1",
           "KiCS",
           "Male",
           1865
          ],
          [
           "KiCS0120_1",
           "KiCS",
           "Male",
           1738
          ],
          [
           "KiCS0120_2",
           "KiCS",
           "Male",
           1738
          ],
          [
           "KiCS0120_3",
           "KiCS",
           "Male",
           1738
          ],
          [
           "KiCS0121_1",
           "KiCS",
           "Male",
           1
          ],
          [
           "KiCS0123_1",
           "KiCS",
           "Male",
           5151
          ],
          [
           "KiCS0126_1",
           "KiCS",
           "Male",
           1443
          ],
          [
           "KiCS0128_1",
           "KiCS",
           "Male",
           4594
          ],
          [
           "KiCS0140_1",
           "KiCS",
           "Male",
           927
          ],
          [
           "KiCS0141_1",
           "KiCS",
           "Male",
           5319
          ],
          [
           "KiCS0143_1",
           "KiCS",
           "Male",
           458
          ],
          [
           "KiCS0148_1",
           "KiCS",
           "Male",
           6687
          ],
          [
           "KiCS0149_1",
           "KiCS",
           "Male",
           1811
          ],
          [
           "KiCS0154_1",
           "KiCS",
           "Male",
           952
          ],
          [
           "KiCS0154_2",
           "KiCS",
           "Male",
           952
          ],
          [
           "KiCS0154_3",
           "KiCS",
           "Male",
           952
          ],
          [
           "KiCS0155_2",
           "KiCS",
           "Male",
           6038
          ],
          [
           "KiCS0155_1",
           "KiCS",
           "Male",
           6038
          ],
          [
           "KiCS0155_3",
           "KiCS",
           "Male",
           6038
          ],
          [
           "KiCS0161_1",
           "KiCS",
           "Male",
           88
          ],
          [
           "KiCS0162_1",
           "KiCS",
           "Male",
           108
          ],
          [
           "KiCS0164_1",
           "KiCS",
           "Male",
           764
          ],
          [
           "KiCS0168_1",
           "KiCS",
           "Male",
           3165
          ],
          [
           "KiCS0169_1",
           "KiCS",
           "Male",
           1341
          ],
          [
           "KiCS0170_1",
           "KiCS",
           "Male",
           268
          ],
          [
           "KiCS0172_1",
           "KiCS",
           "Male",
           5390
          ],
          [
           "KiCS0179_1",
           "KiCS",
           "Male",
           2886
          ],
          [
           "KiCS0188_1",
           "KiCS",
           "Male",
           2427
          ],
          [
           "KiCS0190_1",
           "KiCS",
           "Male",
           3177
          ],
          [
           "KiCS0194_1",
           "KiCS",
           "Male",
           4439
          ],
          [
           "KiCS0195_1",
           "KiCS",
           "Male",
           1268
          ],
          [
           "KiCS0195_2",
           "KiCS",
           "Male",
           1268
          ],
          [
           "KiCS0200_1",
           "KiCS",
           "Male",
           2623
          ],
          [
           "KiCS0209_1",
           "KiCS",
           "Male",
           6710
          ],
          [
           "KiCS0212_1",
           "KiCS",
           "Male",
           2191.5
          ],
          [
           "KiCS0214_1",
           "KiCS",
           "Male",
           5486
          ],
          [
           "KiCS0218_1",
           "KiCS",
           "Male",
           1897
          ],
          [
           "KiCS0218_2",
           "KiCS",
           "Male",
           1897
          ],
          [
           "KiCS0218_3",
           "KiCS",
           "Male",
           1897
          ],
          [
           "KiCS0221_1",
           "KiCS",
           "Male",
           3206
          ],
          [
           "KiCS0224_1",
           "KiCS",
           "Male",
           5807
          ],
          [
           "KiCS0226_1",
           "KiCS",
           "Male",
           169
          ],
          [
           "KiCS0227_1",
           "KiCS",
           "Male",
           9342
          ],
          [
           "KiCS0235_1",
           "KiCS",
           "Male",
           340
          ],
          [
           "KiCS0238_1",
           "KiCS",
           "Male",
           851
          ],
          [
           "KiCS0241_1",
           "KiCS",
           "Male",
           357
          ],
          [
           "KiCS0245_1",
           "KiCS",
           "Male",
           700
          ],
          [
           "KiCS0246_1",
           "KiCS",
           "Male",
           1109
          ],
          [
           "KiCS0249_1",
           "KiCS",
           "Male",
           4500
          ],
          [
           "KiCS0249_2",
           "KiCS",
           "Male",
           4500
          ],
          [
           "KiCS0249_3",
           "KiCS",
           "Male",
           4500
          ],
          [
           "KiCS0266_1",
           "KiCS",
           "Male",
           5901
          ],
          [
           "KiCS0269_1",
           "KiCS",
           "Male",
           1421
          ],
          [
           "KiCS0270_1",
           "KiCS",
           "Male",
           2584
          ],
          [
           "KiCS0271_1",
           "KiCS",
           "Male",
           1643
          ],
          [
           "KiCS0274_1",
           "KiCS",
           "Male",
           1310
          ],
          [
           "KiCS0276_1",
           "KiCS",
           "Male",
           4380
          ],
          [
           "KiCS0279_1",
           "KiCS",
           "Male",
           3553
          ],
          [
           "KiCS0282_1",
           "KiCS",
           "Male",
           981
          ],
          [
           "KiCS0282_2",
           "KiCS",
           "Male",
           981
          ],
          [
           "KiCS0283_1",
           "KiCS",
           "Male",
           1423
          ],
          [
           "KiCS0284_1",
           "KiCS",
           "Male",
           5387
          ],
          [
           "KiCS0288_1",
           "KiCS",
           "Male",
           6229
          ],
          [
           "KiCS0289_1",
           "KiCS",
           "Male",
           5109
          ],
          [
           "KiCS0292_1",
           "KiCS",
           "Male",
           4908
          ],
          [
           "KiCS0296_1",
           "KiCS",
           "Male",
           6223
          ],
          [
           "KiCS0299_1",
           "KiCS",
           "Male",
           164
          ],
          [
           "KiCS0306_2",
           "KiCS",
           "Male",
           2784
          ],
          [
           "KiCS0312_1",
           "KiCS",
           "Male",
           1750
          ],
          [
           "KiCS0319_1",
           "KiCS",
           "Male",
           2518
          ],
          [
           "KiCS0319_2",
           "KiCS",
           "Male",
           2518
          ],
          [
           "KiCS0320_1",
           "KiCS",
           "Male",
           440
          ],
          [
           "KiCS0327_1",
           "KiCS",
           "Male",
           1036
          ],
          [
           "KiCS0334_1",
           "KiCS",
           "Male",
           1471
          ],
          [
           "KiCS0336_1",
           "KiCS",
           "Male",
           6143
          ],
          [
           "KiCS0341_1",
           "KiCS",
           "Male",
           4026
          ],
          [
           "KiCS0343_1",
           "KiCS",
           "Male",
           5778
          ],
          [
           "KiCS0347_1",
           "KiCS",
           "Male",
           6
          ],
          [
           "KiCS0350_1",
           "KiCS",
           "Male",
           4034
          ],
          [
           "KiCS0350_2",
           "KiCS",
           "Male",
           4034
          ],
          [
           "KiCS0352_1",
           "KiCS",
           "Male",
           4350
          ],
          [
           "KiCS0363_2",
           "KiCS",
           "Male",
           5992
          ],
          [
           "KiCS0363_1",
           "KiCS",
           "Male",
           5992
          ],
          [
           "KiCS0365_1",
           "KiCS",
           "Male",
           5793
          ],
          [
           "KiCS0366_1",
           "KiCS",
           "Male",
           5057
          ],
          [
           "KiCS0366_2",
           "KiCS",
           "Male",
           5057
          ],
          [
           "KiCS0368_1",
           "KiCS",
           "Male",
           4789
          ],
          [
           "KiCS0374_1",
           "KiCS",
           "Male",
           728
          ],
          [
           "KiCS0374_2",
           "KiCS",
           "Male",
           728
          ],
          [
           "KiCS0377_1",
           "KiCS",
           "Male",
           6095
          ],
          [
           "KiCS0378_1",
           "KiCS",
           "Male",
           3109
          ],
          [
           "KiCS0379_1",
           "KiCS",
           "Male",
           246
          ],
          [
           "KiCS0380_1",
           "KiCS",
           "Male",
           945
          ],
          [
           "KiCS0385_1",
           "KiCS",
           "Male",
           5857
          ],
          [
           "KiCS0386_1",
           "KiCS",
           "Male",
           5003
          ],
          [
           "KiCS0388_1",
           "KiCS",
           "Male",
           2738
          ],
          [
           "KiCS0391_1",
           "KiCS",
           "Male",
           1248
          ],
          [
           "KiCS0400_1",
           "KiCS",
           "Male",
           3716
          ],
          [
           "LKCGP-P000105-249031-01-03-01-R1",
           "ZCC",
           "Male",
           1460
          ],
          [
           "LKCGP-P000106-244271-01-01-01-R3",
           "ZCC",
           "Male",
           730
          ],
          [
           "LKCGP-P000108-255679-01-06-01-R1",
           "ZCC",
           "Male",
           1095
          ],
          [
           "LKCGP-P000201-244412-01-06-01-R1",
           "ZCC",
           "Male",
           2555
          ],
          [
           "LKCGP-P000202-248737-01-01-01-R1",
           "ZCC",
           "Male",
           1
          ],
          [
           "LKCGP-P000204-251965-01-04-01-D1",
           "ZCC",
           "Male",
           1
          ],
          [
           "LKCGP-P000205-251424-01-04-01-R1",
           "ZCC",
           "Male",
           4745
          ],
          [
           "LKCGP-P000207-256902-01-06-01-R4",
           "ZCC",
           "Male",
           3650
          ],
          [
           "LKCGP-P000301-244735-01-06-01-D1",
           "ZCC",
           "Male",
           1825
          ],
          [
           "LKCGP-P000302-249382-01-01-01-D1",
           "ZCC",
           "Male",
           365
          ],
          [
           "LKCGP-P000304-255645-01-04-01-R2",
           "ZCC",
           "Male",
           6570
          ],
          [
           "LKCGP-P000307-250768-01-01-01-D1",
           "ZCC",
           "Male",
           1825
          ],
          [
           "LKCGP-P000401-244917-01-06-01-D1",
           "ZCC",
           "Male",
           365
          ],
          [
           "LKCGP-P000402-249682-01-04-01-R1",
           "ZCC",
           "Male",
           5475
          ],
          [
           "LKCGP-P000403-255320-01-04-01-D1",
           "ZCC",
           "Male",
           1
          ],
          [
           "LKCGP-P000408-259006-03-02-19-R1",
           "ZCC",
           "Male",
           3285
          ],
          [
           "LKCGP-P000501-245256-01-06-01-D1",
           "ZCC",
           "Male",
           1460
          ],
          [
           "LKCGP-P000502-250726-01-06-01-P1",
           "ZCC",
           "Male",
           1460
          ],
          [
           "LKCGP-P000504-259156-01-01-01-D1",
           "ZCC",
           "Male",
           2920
          ],
          [
           "LKCGP-P000505-266106-01-04-01-R2",
           "ZCC",
           "Male",
           6205
          ],
          [
           "LKCGP-P000506-245249-01-04-01-R3",
           "ZCC",
           "Male",
           6205
          ],
          [
           "LKCGP-P000507-256616-01-04-01-D1",
           "ZCC",
           "Male",
           5475
          ],
          [
           "LKCGP-P000604-259901-01-01-01-D1",
           "ZCC",
           "Male",
           4380
          ],
          [
           "LKCGP-P000605-267980-01-01-01-R3",
           "ZCC",
           "Male",
           2920
          ],
          [
           "LKCGP-P000608-263367-01-01-01-R1",
           "ZCC",
           "Male",
           1095
          ],
          [
           "LKCGP-P000704-259975-01-04-01-P1",
           "ZCC",
           "Male",
           2555
          ],
          [
           "LKCGP-P000802-252046-01-06-01-R1",
           "ZCC",
           "Male",
           3285
          ],
          [
           "LKCGP-P000804-261896-01-01-01-R1",
           "ZCC",
           "Male",
           5475
          ],
          [
           "LKCGP-P000807-259168-03-01-13-R1",
           "ZCC",
           "Male",
           4745
          ],
          [
           "LKCGP-P000904-262038-01-01-01-D1",
           "ZCC",
           "Male",
           1
          ],
          [
           "LKCGP-P000906-248532-01-02-01-P1",
           "ZCC",
           "Male",
           5475
          ],
          [
           "LKCGP-P001005-271863-01-02-03-D1",
           "ZCC",
           "Male",
           6205
          ],
          [
           "LKCGP-P001102-252831-01-01-01-D1",
           "ZCC",
           "Male",
           1
          ],
          [
           "LKCGP-P001104-263056-01-04-20-D1",
           "ZCC",
           "Male",
           2920
          ],
          [
           "LKCGP-P001203-271124-01-02-05-R1",
           "ZCC",
           "Male",
           3285
          ],
          [
           "LKCGP-P001206-250878-01-02-05-D1",
           "ZCC",
           "Male",
           4015
          ],
          [
           "LKCGP-P001207-262187-01-05-01-D1",
           "ZCC",
           "Male",
           4015
          ],
          [
           "LKCGP-P001302-256285-01-01-01-R1",
           "ZCC",
           "Male",
           3285
          ],
          [
           "LKCGP-P001303-271833-01-04-01-D1",
           "ZCC",
           "Male",
           4745
          ],
          [
           "LKCGP-P001306-255554-01-04-01-D1",
           "ZCC",
           "Male",
           2555
          ],
          [
           "LKCGP-P001307-263444-01-01-01-D1",
           "ZCC",
           "Male",
           4380
          ],
          [
           "LKCGP-P001401-249004-01-01-01-D1",
           "ZCC",
           "Male",
           2555
          ],
          [
           "LKCGP-P001402-258718-01-04-01-P1",
           "ZCC",
           "Male",
           1095
          ],
          [
           "LKCGP-P001403-272819-01-06-01-D1",
           "ZCC",
           "Male",
           6205
          ],
          [
           "LKCGP-P001405-277029-01-01-01-P1",
           "ZCC",
           "Male",
           730
          ],
          [
           "LKCGP-P001501-248024-01-01-01-D1",
           "ZCC",
           "Male",
           4380
          ],
          [
           "LKCGP-P001502-260042-01-01-01-R1",
           "ZCC",
           "Male",
           8030
          ],
          [
           "LKCGP-P001602-259355-01-01-01-R1",
           "ZCC",
           "Male",
           3285
          ],
          [
           "LKCGP-P001604-266608-01-04-01-P1",
           "ZCC",
           "Male",
           5840
          ],
          [
           "LKCGP-P001605-279155-01-01-21-D1",
           "ZCC",
           "Male",
           365
          ],
          [
           "LKCGP-P001706-258995-02-06-01-D1",
           "ZCC",
           "Male",
           365
          ],
          [
           "LKCGP-P001707-266282-12-02-05-R1",
           "ZCC",
           "Male",
           1095
          ],
          [
           "LKCGP-P001802-261468-01-01-01-D1",
           "ZCC",
           "Male",
           4015
          ],
          [
           "LKCGP-P001806-259724-01-04-01-P1",
           "ZCC",
           "Male",
           4015
          ],
          [
           "LKCGP-P001901-256209-01-01-01-R1",
           "ZCC",
           "Male",
           4015
          ],
          [
           "LKCGP-P002004-269139-01-04-01-R1",
           "ZCC",
           "Male",
           5475
          ],
          [
           "LKCGP-P002006-260311-01-02-05-R1",
           "ZCC",
           "Male",
           4380
          ],
          [
           "LKCGP-P002106-284468-01-05-01-D1",
           "ZCC",
           "Male",
           3285
          ],
          [
           "LKCGP-P002107-279150-01-03-01-R1",
           "ZCC",
           "Male",
           730
          ],
          [
           "LKCGP-P002201-257247-01-04-01-R1",
           "ZCC",
           "Male",
           5475
          ],
          [
           "LKCGP-P002301-257587-01-04-01-D1",
           "ZCC",
           "Male",
           4745
          ],
          [
           "LKCGP-P002302-267630-01-01-01-D1",
           "ZCC",
           "Male",
           1
          ],
          [
           "LKCGP-P002306-263873-01-01-01-D1",
           "ZCC",
           "Male",
           4380
          ],
          [
           "LKCGP-P002402-267982-01-04-01-P1",
           "ZCC",
           "Male",
           6205
          ],
          [
           "LKCGP-P002404-271735-01-01-01-D1",
           "ZCC",
           "Male",
           1095
          ],
          [
           "LKCGP-P002504-271859-01-04-01-R1",
           "ZCC",
           "Male",
           2920
          ],
          [
           "LKCGP-P002506-265070-01-01-01-P1",
           "ZCC",
           "Male",
           4015
          ],
          [
           "LKCGP-P002602-269189-01-04-01-D1",
           "ZCC",
           "Male",
           730
          ],
          [
           "LKCGP-P002604-272051-01-04-01-D1",
           "ZCC",
           "Male",
           730
          ],
          [
           "LKCGP-P002606-265650-01-06-19-R1",
           "ZCC",
           "Male",
           1825
          ],
          [
           "LKCGP-P002701-261129-01-04-21-D1",
           "ZCC",
           "Male",
           1460
          ],
          [
           "LKCGP-P002702-270641-01-04-01-R1",
           "ZCC",
           "Male",
           4380
          ],
          [
           "LKCGP-P002802-270846-01-01-01-D1",
           "ZCC",
           "Male",
           4745
          ],
          [
           "LKCGP-P002902-273015-01-02-03-P1",
           "ZCC",
           "Male",
           3285
          ],
          [
           "LKCGP-P002904-273913-01-01-01-D1",
           "ZCC",
           "Male",
           2920
          ],
          [
           "LKCGP-P002906-271853-01-04-01-D1",
           "ZCC",
           "Male",
           5475
          ],
          [
           "LKCGP-P003001-262058-01-03-01-P1",
           "ZCC",
           "Male",
           2190
          ],
          [
           "LKCGP-P003004-275025-01-02-03-R3",
           "ZCC",
           "Male",
           365
          ],
          [
           "LKCGP-P003006-272327-01-02-05-R1",
           "ZCC",
           "Male",
           4745
          ],
          [
           "LKCGP-P003104-275018-01-03-19-R1",
           "ZCC",
           "Male",
           365
          ],
          [
           "LKCGP-P003204-276307-01-01-01-D1",
           "ZCC",
           "Male",
           6935
          ],
          [
           "LKCGP-P003206-273438-01-02-05-D1",
           "ZCC",
           "Male",
           1460
          ],
          [
           "LKCGP-P003401-265908-01-06-01-D1",
           "ZCC",
           "Male",
           1
          ],
          [
           "LKCGP-P003404-276310-01-01-01-R1",
           "ZCC",
           "Male",
           365
          ],
          [
           "LKCGP-P003502-275267-01-01-01-R1",
           "ZCC",
           "Male",
           4380
          ],
          [
           "LKCGP-P003602-275769-01-06-01-R1",
           "ZCC",
           "Male",
           2555
          ],
          [
           "LKCGP-P003604-277454-01-04-20-D1",
           "ZCC",
           "Male",
           3285
          ],
          [
           "LKCGP-P003606-275528-01-06-19-D1",
           "ZCC",
           "Male",
           3285
          ],
          [
           "LKCGP-P003702-277038-01-04-01-D1",
           "ZCC",
           "Male",
           5840
          ],
          [
           "LKCGP-P003707-302481-01-03-01-R1",
           "ZCC",
           "Male",
           1460
          ],
          [
           "LKCGP-P003801-267911-02-06-01-R1",
           "ZCC",
           "Male",
           4745
          ],
          [
           "LKCGP-P003804-277725-01-04-01-R1",
           "ZCC",
           "Male",
           6205
          ],
          [
           "LKCGP-P003902-277744-01-01-01-D1",
           "ZCC",
           "Male",
           730
          ],
          [
           "LKCGP-P003904-279449-01-01-01-D1",
           "ZCC",
           "Male",
           1095
          ],
          [
           "LKCGP-P003906-277863-02-03-03-R3",
           "ZCC",
           "Male",
           1095
          ],
          [
           "LKCGP-P004102-279100-01-04-01-D1",
           "ZCC",
           "Male",
           365
          ],
          [
           "LKCGP-P004201-269359-01-01-01-R1",
           "ZCC",
           "Male",
           1825
          ],
          [
           "LKCGP-P004202-279837-01-04-01-R1",
           "ZCC",
           "Male",
           5110
          ],
          [
           "LKCGP-P004301-270831-01-01-01-D1",
           "ZCC",
           "Male",
           4015
          ],
          [
           "LKCGP-P004404-282217-01-05-01-R1",
           "ZCC",
           "Male",
           730
          ],
          [
           "LKCGP-P004501-271563-01-02-05-R1",
           "ZCC",
           "Male",
           365
          ],
          [
           "LKCGP-P004801-275546-01-01-21-D1",
           "ZCC",
           "Male",
           3650
          ],
          [
           "LKCGP-P004901-275394-01-02-01-R2",
           "ZCC",
           "Male",
           6935
          ],
          [
           "LKCGP-P005101-276367-01-06-19-D1",
           "ZCC",
           "Male",
           4380
          ],
          [
           "LKCGP-P005106-292258-01-01-01-R1",
           "ZCC",
           "Male",
           365
          ],
          [
           "LKCGP-P005201-276908-01-02-04-D1",
           "ZCC",
           "Male",
           2190
          ],
          [
           "LKCGP-P005301-277991-01-04-01-D1",
           "ZCC",
           "Male",
           1
          ],
          [
           "LKCGP-P005406-294364-01-01-01-R2",
           "ZCC",
           "Male",
           4015
          ],
          [
           "LKCGP-P005501-278087-01-02-01-D1",
           "ZCC",
           "Male",
           5110
          ],
          [
           "LKCGP-P005601-279473-01-06-01-D1",
           "ZCC",
           "Male",
           5475
          ],
          [
           "LKCGP-P006202-298174-01-04-01-R1",
           "ZCC",
           "Male",
           4745
          ],
          [
           "LKCGP-P007004-307759-01-01-01-R1",
           "ZCC",
           "Male",
           3650
          ],
          [
           "LKCP-T000101-030303-01-04-01-D1",
           "ZCC",
           "Male",
           1095
          ],
          [
           "LKCP-T000102-168359-01-04-01-D1",
           "ZCC",
           "Male",
           6205
          ],
          [
           "LKCP-T000201-030226-01-01-01-D1",
           "ZCC",
           "Male",
           3650
          ],
          [
           "LKCP-T000801-030437-01-01-01-D1",
           "ZCC",
           "Male",
           2190
          ],
          [
           "LKCP-T000901-030528-01-05-01-D1",
           "ZCC",
           "Male",
           2555
          ],
          [
           "LKCP-T000902-239174-01-06-01-D1",
           "ZCC",
           "Male",
           730
          ],
          [
           "LKCP-T001101-030632-01-06-01-D1",
           "ZCC",
           "Male",
           365
          ],
          [
           "LKCP-T001301-030877-01-03-01-R1",
           "ZCC",
           "Male",
           1095
          ],
          [
           "LKCP-T001601-030978-01-02-01-D1",
           "ZCC",
           "Male",
           4015
          ],
          [
           "LKCP-T001901-031281-01-04-01-R1",
           "ZCC",
           "Male",
           1
          ],
          [
           "LKCP-T002101-031422-01-01-01-D1",
           "ZCC",
           "Male",
           365
          ],
          [
           "LKCP-T002201-031482-01-01-01-R1",
           "ZCC",
           "Male",
           6205
          ],
          [
           "LKCP-T002701-167650-01-03-01-P1",
           "ZCC",
           "Male",
           1460
          ],
          [
           "LKCP-T002901-167990-01-04-01-R1",
           "ZCC",
           "Male",
           6205
          ],
          [
           "LKCP-T003201-169765-01-01-01-D1",
           "ZCC",
           "Male",
           4380
          ],
          [
           "LKCP-T003301-172592-01-01-01-D1",
           "ZCC",
           "Male",
           2190
          ],
          [
           "LKCP-T003401-174216-01-01-01-R1",
           "ZCC",
           "Male",
           1
          ],
          [
           "LKCP-T003901-176167-01-03-01-R1",
           "ZCC",
           "Male",
           1
          ],
          [
           "LKCP-T004301-178339-01-01-01-R1",
           "ZCC",
           "Male",
           2920
          ],
          [
           "LKCP-T004401-235152-01-01-01-D1",
           "ZCC",
           "Male",
           3285
          ],
          [
           "LKCP-T004501-236339-01-02-05-R1",
           "ZCC",
           "Male",
           4745
          ],
          [
           "LKCP-T004801-237803-03-01-01-D1",
           "ZCC",
           "Male",
           5110
          ],
          [
           "LKCP-T004901-238554-01-02-01-D1",
           "ZCC",
           "Male",
           5110
          ],
          [
           "LKCP-T005201-239954-01-01-01-D1",
           "ZCC",
           "Male",
           2190
          ],
          [
           "LKCGP-T005601-241252-01-01-01-D1",
           "ZCC",
           "Male",
           1825
          ],
          [
           "IID_H133672_T01",
           "MSK",
           "Male",
           1063
          ],
          [
           "IID_H134756_T01",
           "MSK",
           "Male",
           5564
          ],
          [
           "IID_H135065_T01",
           "MSK",
           "Male",
           4118
          ],
          [
           "IID_H135420_T01",
           "MSK",
           "Male",
           9823
          ],
          [
           "IID_H135463_T01",
           "MSK",
           "Male",
           1940
          ],
          [
           "IID_H135973_T01",
           "MSK",
           "Male",
           1615
          ],
          [
           "IID_H136062_T01",
           "MSK",
           "Male",
           4202
          ],
          [
           "IID_H136083_T01",
           "MSK",
           "Male",
           133
          ],
          [
           "I-H-108298-T1",
           "MSK",
           "Male",
           6004
          ],
          [
           "IID_H108317_T01",
           "MSK",
           "Male",
           5122
          ],
          [
           "IID_H108319_T01",
           "MSK",
           "Male",
           1618
          ],
          [
           "IID_H108333_T02",
           "MSK",
           "Male",
           3848
          ],
          [
           "IID_H121266_T01",
           "MSK",
           "Male",
           4615
          ],
          [
           "IID_H133671_T01",
           "MSK",
           "Male",
           926
          ],
          [
           "IID_H133673_T01",
           "MSK",
           "Male",
           2730
          ],
          [
           "IID_H133674_T01",
           "MSK",
           "Male",
           669
          ],
          [
           "I-H-133675-T1",
           "MSK",
           "Male",
           6643
          ],
          [
           "IID_H134733_T03",
           "MSK",
           "Male",
           4073
          ],
          [
           "IID_H134754_T01",
           "MSK",
           "Male",
           6066
          ],
          [
           "IID_H134757_T01",
           "MSK",
           "Male",
           6667
          ],
          [
           "IID_H135062_T01",
           "MSK",
           "Male",
           6266
          ],
          [
           "IID_H135074_T01",
           "MSK",
           "Male",
           6358
          ],
          [
           "IID_H135393_T01",
           "MSK",
           "Male",
           3075
          ],
          [
           "IID_H135459_T01",
           "MSK",
           "Male",
           6936
          ],
          [
           "IID_H135963_T01",
           "MSK",
           "Male",
           5888
          ],
          [
           "IID_H135963_T02",
           "MSK",
           "Male",
           5888
          ],
          [
           "IID_H136134_T01",
           "MSK",
           "Male",
           1171
          ],
          [
           "IID_H136375_T01",
           "MSK",
           "Male",
           5828
          ],
          [
           "IID_H136428_T01",
           "MSK",
           "Male",
           9121
          ],
          [
           "IID_H136640_T01",
           "MSK",
           "Male",
           6764
          ],
          [
           "IID_H136641_T01",
           "MSK",
           "Male",
           3093
          ],
          [
           "IID_H136648_T01",
           "MSK",
           "Male",
           1421
          ],
          [
           "IID_H156409_T01",
           "MSK",
           "Male",
           3661
          ],
          [
           "IID_H156416_T01",
           "MSK",
           "Male",
           1850
          ],
          [
           "IID_H158181_T01",
           "MSK",
           "Male",
           6928
          ],
          [
           "IID_H158182_T01",
           "MSK",
           "Male",
           3799
          ],
          [
           "IID_H158184_T01",
           "MSK",
           "Male",
           958
          ],
          [
           "IID_H158493_T01",
           "MSK",
           "Male",
           5829
          ]
         ],
         "hovertemplate": "Sex=%{customdata[2]}<br>Years=%{x}<br>Sample_id2=%{customdata[0]}<br>Cohort=%{customdata[1]}<br>Age=%{customdata[3]}<extra></extra>",
         "legendgroup": "Male",
         "marker": {
          "color": "#EF553B"
         },
         "name": "Male",
         "notched": true,
         "offsetgroup": "Male",
         "showlegend": false,
         "type": "box",
         "x": [
          13.282191780821918,
          13.243835616438357,
          11.821917808219178,
          11.821917808219178,
          11.821917808219178,
          6.498630136986302,
          6.498630136986302,
          10.452054794520548,
          7.7095890410958905,
          7.7095890410958905,
          7.7095890410958905,
          7.7095890410958905,
          0.38904109589041097,
          0.2191780821917808,
          0.2191780821917808,
          10.104109589041096,
          0.021917808219178082,
          9.084931506849315,
          0.2219178082191781,
          10.947945205479453,
          4.427397260273972,
          4.427397260273972,
          1.3013698630136987,
          1.3013698630136987,
          1.3013698630136987,
          0.547945205479452,
          0.23835616438356164,
          14.90958904109589,
          14.90958904109589,
          8.082191780821917,
          13.26027397260274,
          7.597260273972603,
          0.14246575342465753,
          7.063013698630137,
          7.063013698630137,
          5.901369863013699,
          12.871232876712329,
          9.364383561643836,
          2.7835616438356166,
          17.586301369863012,
          6.780821917808219,
          15.67945205479452,
          9.854794520547944,
          8.312328767123288,
          0.0027397260273972603,
          0.0027397260273972603,
          4.904109589041096,
          12.561643835616438,
          8.2986301369863,
          14.391780821917807,
          6.676712328767123,
          4.252054794520548,
          4.252054794520548,
          18.764383561643836,
          18.764383561643836,
          10.545205479452054,
          7.323287671232877,
          16.55068493150685,
          11.643835616438356,
          15.92054794520548,
          6.542465753424658,
          5.347945205479452,
          11.145205479452056,
          11.594520547945205,
          5.109589041095891,
          4.761643835616439,
          4.761643835616439,
          4.761643835616439,
          0.0027397260273972603,
          14.112328767123287,
          3.9534246575342467,
          12.586301369863014,
          2.5397260273972604,
          14.572602739726028,
          1.2547945205479452,
          18.32054794520548,
          4.961643835616439,
          2.6082191780821917,
          2.6082191780821917,
          2.6082191780821917,
          16.542465753424658,
          16.542465753424658,
          16.542465753424658,
          0.2410958904109589,
          0.2958904109589041,
          2.0931506849315067,
          8.67123287671233,
          3.673972602739726,
          0.7342465753424657,
          14.767123287671232,
          7.906849315068493,
          6.64931506849315,
          8.704109589041096,
          12.161643835616438,
          3.473972602739726,
          3.473972602739726,
          7.186301369863013,
          18.383561643835616,
          6.004109589041096,
          15.03013698630137,
          5.197260273972603,
          5.197260273972603,
          5.197260273972603,
          8.783561643835617,
          15.90958904109589,
          0.46301369863013697,
          25.594520547945205,
          0.9315068493150684,
          2.3315068493150686,
          0.9780821917808219,
          1.917808219178082,
          3.0383561643835617,
          12.32876712328767,
          12.32876712328767,
          12.32876712328767,
          16.167123287671235,
          3.893150684931507,
          7.079452054794521,
          4.501369863013698,
          3.589041095890411,
          12,
          9.734246575342466,
          2.6876712328767125,
          2.6876712328767125,
          3.8986301369863012,
          14.758904109589041,
          17.065753424657533,
          13.997260273972604,
          13.446575342465753,
          17.04931506849315,
          0.44931506849315067,
          7.627397260273972,
          4.794520547945205,
          6.898630136986301,
          6.898630136986301,
          1.2054794520547945,
          2.8383561643835615,
          4.03013698630137,
          16.83013698630137,
          11.03013698630137,
          15.830136986301369,
          0.01643835616438356,
          11.052054794520547,
          11.052054794520547,
          11.917808219178083,
          16.416438356164385,
          16.416438356164385,
          15.871232876712329,
          13.854794520547944,
          13.854794520547944,
          13.12054794520548,
          1.9945205479452055,
          1.9945205479452055,
          16.698630136986303,
          8.517808219178082,
          0.673972602739726,
          2.589041095890411,
          16.046575342465754,
          13.706849315068494,
          7.501369863013698,
          3.419178082191781,
          10.180821917808219,
          4,
          2,
          3,
          7,
          0.0027397260273972603,
          0.0027397260273972603,
          13,
          10,
          5,
          1,
          18,
          5,
          1,
          15,
          0.0027397260273972603,
          9,
          4,
          4,
          8,
          17,
          17,
          15,
          12,
          8,
          3,
          7,
          9,
          15,
          13,
          0.0027397260273972603,
          15,
          17,
          0.0027397260273972603,
          8,
          9,
          11,
          11,
          9,
          13,
          7,
          12,
          7,
          3,
          17,
          2,
          12,
          22,
          9,
          16,
          1,
          1,
          3,
          11,
          11,
          11,
          15,
          12,
          9,
          2,
          15,
          13,
          0.0027397260273972603,
          12,
          17,
          3,
          8,
          11,
          2,
          2,
          5,
          4,
          12,
          13,
          9,
          8,
          15,
          6,
          1,
          13,
          1,
          19,
          4,
          0.0027397260273972603,
          1,
          12,
          7,
          9,
          9,
          16,
          4,
          13,
          17,
          2,
          3,
          3,
          1,
          5,
          14,
          11,
          2,
          1,
          10,
          19,
          12,
          1,
          6,
          0.0027397260273972603,
          11,
          14,
          15,
          13,
          10,
          3,
          17,
          10,
          6,
          7,
          2,
          1,
          3,
          11,
          0.0027397260273972603,
          1,
          17,
          4,
          17,
          12,
          6,
          0.0027397260273972603,
          0.0027397260273972603,
          8,
          9,
          13,
          14,
          14,
          6,
          5,
          2.9123287671232876,
          15.243835616438357,
          11.282191780821918,
          26.912328767123288,
          5.315068493150685,
          4.424657534246576,
          11.512328767123288,
          0.3643835616438356,
          16.44931506849315,
          14.032876712328767,
          4.432876712328767,
          10.542465753424658,
          12.643835616438356,
          2.536986301369863,
          7.47945205479452,
          1.832876712328767,
          18.2,
          11.158904109589042,
          16.61917808219178,
          18.265753424657536,
          17.167123287671235,
          17.41917808219178,
          8.424657534246576,
          19.002739726027396,
          16.13150684931507,
          16.13150684931507,
          3.208219178082192,
          15.967123287671233,
          24.98904109589041,
          18.53150684931507,
          8.473972602739726,
          3.893150684931507,
          10.03013698630137,
          5.068493150684931,
          18.980821917808218,
          10.408219178082192,
          2.6246575342465754,
          15.96986301369863
         ],
         "xaxis": "x2",
         "yaxis": "y2"
        }
       ],
       "layout": {
        "barmode": "relative",
        "height": 400,
        "legend": {
         "font": {
          "size": 20
         },
         "orientation": "h",
         "title": {
          "text": "Sex"
         },
         "tracegroupgap": 0,
         "x": 0,
         "y": 1.2
        },
        "margin": {
         "t": 60
        },
        "paper_bgcolor": "rgba(0, 0, 0, 0)",
        "plot_bgcolor": "rgba(0, 0, 0, 0)",
        "template": {
         "data": {
          "bar": [
           {
            "error_x": {
             "color": "#2a3f5f"
            },
            "error_y": {
             "color": "#2a3f5f"
            },
            "marker": {
             "line": {
              "color": "#E5ECF6",
              "width": 0.5
             },
             "pattern": {
              "fillmode": "overlay",
              "size": 10,
              "solidity": 0.2
             }
            },
            "type": "bar"
           }
          ],
          "barpolar": [
           {
            "marker": {
             "line": {
              "color": "#E5ECF6",
              "width": 0.5
             },
             "pattern": {
              "fillmode": "overlay",
              "size": 10,
              "solidity": 0.2
             }
            },
            "type": "barpolar"
           }
          ],
          "carpet": [
           {
            "aaxis": {
             "endlinecolor": "#2a3f5f",
             "gridcolor": "white",
             "linecolor": "white",
             "minorgridcolor": "white",
             "startlinecolor": "#2a3f5f"
            },
            "baxis": {
             "endlinecolor": "#2a3f5f",
             "gridcolor": "white",
             "linecolor": "white",
             "minorgridcolor": "white",
             "startlinecolor": "#2a3f5f"
            },
            "type": "carpet"
           }
          ],
          "choropleth": [
           {
            "colorbar": {
             "outlinewidth": 0,
             "ticks": ""
            },
            "type": "choropleth"
           }
          ],
          "contour": [
           {
            "colorbar": {
             "outlinewidth": 0,
             "ticks": ""
            },
            "colorscale": [
             [
              0,
              "#0d0887"
             ],
             [
              0.1111111111111111,
              "#46039f"
             ],
             [
              0.2222222222222222,
              "#7201a8"
             ],
             [
              0.3333333333333333,
              "#9c179e"
             ],
             [
              0.4444444444444444,
              "#bd3786"
             ],
             [
              0.5555555555555556,
              "#d8576b"
             ],
             [
              0.6666666666666666,
              "#ed7953"
             ],
             [
              0.7777777777777778,
              "#fb9f3a"
             ],
             [
              0.8888888888888888,
              "#fdca26"
             ],
             [
              1,
              "#f0f921"
             ]
            ],
            "type": "contour"
           }
          ],
          "contourcarpet": [
           {
            "colorbar": {
             "outlinewidth": 0,
             "ticks": ""
            },
            "type": "contourcarpet"
           }
          ],
          "heatmap": [
           {
            "colorbar": {
             "outlinewidth": 0,
             "ticks": ""
            },
            "colorscale": [
             [
              0,
              "#0d0887"
             ],
             [
              0.1111111111111111,
              "#46039f"
             ],
             [
              0.2222222222222222,
              "#7201a8"
             ],
             [
              0.3333333333333333,
              "#9c179e"
             ],
             [
              0.4444444444444444,
              "#bd3786"
             ],
             [
              0.5555555555555556,
              "#d8576b"
             ],
             [
              0.6666666666666666,
              "#ed7953"
             ],
             [
              0.7777777777777778,
              "#fb9f3a"
             ],
             [
              0.8888888888888888,
              "#fdca26"
             ],
             [
              1,
              "#f0f921"
             ]
            ],
            "type": "heatmap"
           }
          ],
          "heatmapgl": [
           {
            "colorbar": {
             "outlinewidth": 0,
             "ticks": ""
            },
            "colorscale": [
             [
              0,
              "#0d0887"
             ],
             [
              0.1111111111111111,
              "#46039f"
             ],
             [
              0.2222222222222222,
              "#7201a8"
             ],
             [
              0.3333333333333333,
              "#9c179e"
             ],
             [
              0.4444444444444444,
              "#bd3786"
             ],
             [
              0.5555555555555556,
              "#d8576b"
             ],
             [
              0.6666666666666666,
              "#ed7953"
             ],
             [
              0.7777777777777778,
              "#fb9f3a"
             ],
             [
              0.8888888888888888,
              "#fdca26"
             ],
             [
              1,
              "#f0f921"
             ]
            ],
            "type": "heatmapgl"
           }
          ],
          "histogram": [
           {
            "marker": {
             "pattern": {
              "fillmode": "overlay",
              "size": 10,
              "solidity": 0.2
             }
            },
            "type": "histogram"
           }
          ],
          "histogram2d": [
           {
            "colorbar": {
             "outlinewidth": 0,
             "ticks": ""
            },
            "colorscale": [
             [
              0,
              "#0d0887"
             ],
             [
              0.1111111111111111,
              "#46039f"
             ],
             [
              0.2222222222222222,
              "#7201a8"
             ],
             [
              0.3333333333333333,
              "#9c179e"
             ],
             [
              0.4444444444444444,
              "#bd3786"
             ],
             [
              0.5555555555555556,
              "#d8576b"
             ],
             [
              0.6666666666666666,
              "#ed7953"
             ],
             [
              0.7777777777777778,
              "#fb9f3a"
             ],
             [
              0.8888888888888888,
              "#fdca26"
             ],
             [
              1,
              "#f0f921"
             ]
            ],
            "type": "histogram2d"
           }
          ],
          "histogram2dcontour": [
           {
            "colorbar": {
             "outlinewidth": 0,
             "ticks": ""
            },
            "colorscale": [
             [
              0,
              "#0d0887"
             ],
             [
              0.1111111111111111,
              "#46039f"
             ],
             [
              0.2222222222222222,
              "#7201a8"
             ],
             [
              0.3333333333333333,
              "#9c179e"
             ],
             [
              0.4444444444444444,
              "#bd3786"
             ],
             [
              0.5555555555555556,
              "#d8576b"
             ],
             [
              0.6666666666666666,
              "#ed7953"
             ],
             [
              0.7777777777777778,
              "#fb9f3a"
             ],
             [
              0.8888888888888888,
              "#fdca26"
             ],
             [
              1,
              "#f0f921"
             ]
            ],
            "type": "histogram2dcontour"
           }
          ],
          "mesh3d": [
           {
            "colorbar": {
             "outlinewidth": 0,
             "ticks": ""
            },
            "type": "mesh3d"
           }
          ],
          "parcoords": [
           {
            "line": {
             "colorbar": {
              "outlinewidth": 0,
              "ticks": ""
             }
            },
            "type": "parcoords"
           }
          ],
          "pie": [
           {
            "automargin": true,
            "type": "pie"
           }
          ],
          "scatter": [
           {
            "fillpattern": {
             "fillmode": "overlay",
             "size": 10,
             "solidity": 0.2
            },
            "type": "scatter"
           }
          ],
          "scatter3d": [
           {
            "line": {
             "colorbar": {
              "outlinewidth": 0,
              "ticks": ""
             }
            },
            "marker": {
             "colorbar": {
              "outlinewidth": 0,
              "ticks": ""
             }
            },
            "type": "scatter3d"
           }
          ],
          "scattercarpet": [
           {
            "marker": {
             "colorbar": {
              "outlinewidth": 0,
              "ticks": ""
             }
            },
            "type": "scattercarpet"
           }
          ],
          "scattergeo": [
           {
            "marker": {
             "colorbar": {
              "outlinewidth": 0,
              "ticks": ""
             }
            },
            "type": "scattergeo"
           }
          ],
          "scattergl": [
           {
            "marker": {
             "colorbar": {
              "outlinewidth": 0,
              "ticks": ""
             }
            },
            "type": "scattergl"
           }
          ],
          "scattermapbox": [
           {
            "marker": {
             "colorbar": {
              "outlinewidth": 0,
              "ticks": ""
             }
            },
            "type": "scattermapbox"
           }
          ],
          "scatterpolar": [
           {
            "marker": {
             "colorbar": {
              "outlinewidth": 0,
              "ticks": ""
             }
            },
            "type": "scatterpolar"
           }
          ],
          "scatterpolargl": [
           {
            "marker": {
             "colorbar": {
              "outlinewidth": 0,
              "ticks": ""
             }
            },
            "type": "scatterpolargl"
           }
          ],
          "scatterternary": [
           {
            "marker": {
             "colorbar": {
              "outlinewidth": 0,
              "ticks": ""
             }
            },
            "type": "scatterternary"
           }
          ],
          "surface": [
           {
            "colorbar": {
             "outlinewidth": 0,
             "ticks": ""
            },
            "colorscale": [
             [
              0,
              "#0d0887"
             ],
             [
              0.1111111111111111,
              "#46039f"
             ],
             [
              0.2222222222222222,
              "#7201a8"
             ],
             [
              0.3333333333333333,
              "#9c179e"
             ],
             [
              0.4444444444444444,
              "#bd3786"
             ],
             [
              0.5555555555555556,
              "#d8576b"
             ],
             [
              0.6666666666666666,
              "#ed7953"
             ],
             [
              0.7777777777777778,
              "#fb9f3a"
             ],
             [
              0.8888888888888888,
              "#fdca26"
             ],
             [
              1,
              "#f0f921"
             ]
            ],
            "type": "surface"
           }
          ],
          "table": [
           {
            "cells": {
             "fill": {
              "color": "#EBF0F8"
             },
             "line": {
              "color": "white"
             }
            },
            "header": {
             "fill": {
              "color": "#C8D4E3"
             },
             "line": {
              "color": "white"
             }
            },
            "type": "table"
           }
          ]
         },
         "layout": {
          "annotationdefaults": {
           "arrowcolor": "#2a3f5f",
           "arrowhead": 0,
           "arrowwidth": 1
          },
          "autotypenumbers": "strict",
          "coloraxis": {
           "colorbar": {
            "outlinewidth": 0,
            "ticks": ""
           }
          },
          "colorscale": {
           "diverging": [
            [
             0,
             "#8e0152"
            ],
            [
             0.1,
             "#c51b7d"
            ],
            [
             0.2,
             "#de77ae"
            ],
            [
             0.3,
             "#f1b6da"
            ],
            [
             0.4,
             "#fde0ef"
            ],
            [
             0.5,
             "#f7f7f7"
            ],
            [
             0.6,
             "#e6f5d0"
            ],
            [
             0.7,
             "#b8e186"
            ],
            [
             0.8,
             "#7fbc41"
            ],
            [
             0.9,
             "#4d9221"
            ],
            [
             1,
             "#276419"
            ]
           ],
           "sequential": [
            [
             0,
             "#0d0887"
            ],
            [
             0.1111111111111111,
             "#46039f"
            ],
            [
             0.2222222222222222,
             "#7201a8"
            ],
            [
             0.3333333333333333,
             "#9c179e"
            ],
            [
             0.4444444444444444,
             "#bd3786"
            ],
            [
             0.5555555555555556,
             "#d8576b"
            ],
            [
             0.6666666666666666,
             "#ed7953"
            ],
            [
             0.7777777777777778,
             "#fb9f3a"
            ],
            [
             0.8888888888888888,
             "#fdca26"
            ],
            [
             1,
             "#f0f921"
            ]
           ],
           "sequentialminus": [
            [
             0,
             "#0d0887"
            ],
            [
             0.1111111111111111,
             "#46039f"
            ],
            [
             0.2222222222222222,
             "#7201a8"
            ],
            [
             0.3333333333333333,
             "#9c179e"
            ],
            [
             0.4444444444444444,
             "#bd3786"
            ],
            [
             0.5555555555555556,
             "#d8576b"
            ],
            [
             0.6666666666666666,
             "#ed7953"
            ],
            [
             0.7777777777777778,
             "#fb9f3a"
            ],
            [
             0.8888888888888888,
             "#fdca26"
            ],
            [
             1,
             "#f0f921"
            ]
           ]
          },
          "colorway": [
           "#636efa",
           "#EF553B",
           "#00cc96",
           "#ab63fa",
           "#FFA15A",
           "#19d3f3",
           "#FF6692",
           "#B6E880",
           "#FF97FF",
           "#FECB52"
          ],
          "font": {
           "color": "#2a3f5f"
          },
          "geo": {
           "bgcolor": "white",
           "lakecolor": "white",
           "landcolor": "#E5ECF6",
           "showlakes": true,
           "showland": true,
           "subunitcolor": "white"
          },
          "hoverlabel": {
           "align": "left"
          },
          "hovermode": "closest",
          "mapbox": {
           "style": "light"
          },
          "paper_bgcolor": "white",
          "plot_bgcolor": "#E5ECF6",
          "polar": {
           "angularaxis": {
            "gridcolor": "white",
            "linecolor": "white",
            "ticks": ""
           },
           "bgcolor": "#E5ECF6",
           "radialaxis": {
            "gridcolor": "white",
            "linecolor": "white",
            "ticks": ""
           }
          },
          "scene": {
           "xaxis": {
            "backgroundcolor": "#E5ECF6",
            "gridcolor": "white",
            "gridwidth": 2,
            "linecolor": "white",
            "showbackground": true,
            "ticks": "",
            "zerolinecolor": "white"
           },
           "yaxis": {
            "backgroundcolor": "#E5ECF6",
            "gridcolor": "white",
            "gridwidth": 2,
            "linecolor": "white",
            "showbackground": true,
            "ticks": "",
            "zerolinecolor": "white"
           },
           "zaxis": {
            "backgroundcolor": "#E5ECF6",
            "gridcolor": "white",
            "gridwidth": 2,
            "linecolor": "white",
            "showbackground": true,
            "ticks": "",
            "zerolinecolor": "white"
           }
          },
          "shapedefaults": {
           "line": {
            "color": "#2a3f5f"
           }
          },
          "ternary": {
           "aaxis": {
            "gridcolor": "white",
            "linecolor": "white",
            "ticks": ""
           },
           "baxis": {
            "gridcolor": "white",
            "linecolor": "white",
            "ticks": ""
           },
           "bgcolor": "#E5ECF6",
           "caxis": {
            "gridcolor": "white",
            "linecolor": "white",
            "ticks": ""
           }
          },
          "title": {
           "x": 0.05
          },
          "xaxis": {
           "automargin": true,
           "gridcolor": "white",
           "linecolor": "white",
           "ticks": "",
           "title": {
            "standoff": 15
           },
           "zerolinecolor": "white",
           "zerolinewidth": 2
          },
          "yaxis": {
           "automargin": true,
           "gridcolor": "white",
           "linecolor": "white",
           "ticks": "",
           "title": {
            "standoff": 15
           },
           "zerolinecolor": "white",
           "zerolinewidth": 2
          }
         }
        },
        "width": 800,
        "xaxis": {
         "anchor": "y",
         "domain": [
          0,
          1
         ],
         "title": {
          "font": {
           "size": 20
          },
          "text": "Years"
         }
        },
        "xaxis2": {
         "anchor": "y2",
         "domain": [
          0,
          1
         ],
         "matches": "x",
         "showgrid": true,
         "showticklabels": false
        },
        "yaxis": {
         "anchor": "x",
         "domain": [
          0,
          0.7326
         ],
         "gridcolor": "rgba(189, 195, 199, 1)",
         "title": {
          "font": {
           "size": 20
          },
          "text": "Samples"
         }
        },
        "yaxis2": {
         "anchor": "x2",
         "domain": [
          0.7426,
          1
         ],
         "matches": "y2",
         "showgrid": false,
         "showline": false,
         "showticklabels": false,
         "ticks": ""
        }
       }
      }
     },
     "metadata": {},
     "output_type": "display_data"
    }
   ],
   "source": [
    "df = px.data.tips()\n",
    "fig = px.histogram(KZM_age, x=\"Years\", color=\"Sex\", marginal=\"box\",\n",
    "                   hover_data=KZM_age.columns, width=800, height=400)\n",
    "fig.update_yaxes(title= 'Samples', row=1, title_font=dict(size=20))\n",
    "fig.update_xaxes(title= 'Years', row=1, title_font=dict(size=20))\n",
    "fig.update_layout(legend=dict(x=0, y=1.2, font=dict(size= 20)), legend_orientation=\"h\", yaxis_gridcolor='rgba(189, 195, 199, 1)')\n",
    "fig.update_layout({'plot_bgcolor': 'rgba(0, 0, 0, 0)', 'paper_bgcolor': 'rgba(0, 0, 0, 0)'})\n",
    "fig.show()\n",
    "fig.write_image(os.path.join(fig_out, \"ExFig_1a.pdf\"))"
   ]
  },
  {
   "cell_type": "markdown",
   "metadata": {},
   "source": [
    "-----\n",
    "## Panel b"
   ]
  },
  {
   "cell_type": "code",
   "execution_count": 15,
   "metadata": {},
   "outputs": [
    {
     "data": {
      "text/html": [
       "<div>\n",
       "<style scoped>\n",
       "    .dataframe tbody tr th:only-of-type {\n",
       "        vertical-align: middle;\n",
       "    }\n",
       "\n",
       "    .dataframe tbody tr th {\n",
       "        vertical-align: top;\n",
       "    }\n",
       "\n",
       "    .dataframe thead th {\n",
       "        text-align: right;\n",
       "    }\n",
       "</style>\n",
       "<table border=\"1\" class=\"dataframe\">\n",
       "  <thead>\n",
       "    <tr style=\"text-align: right;\">\n",
       "      <th></th>\n",
       "      <th>KiCS</th>\n",
       "      <th>ZERO</th>\n",
       "      <th>MSK</th>\n",
       "    </tr>\n",
       "    <tr>\n",
       "      <th>Type</th>\n",
       "      <th></th>\n",
       "      <th></th>\n",
       "      <th></th>\n",
       "    </tr>\n",
       "  </thead>\n",
       "  <tbody>\n",
       "    <tr>\n",
       "      <th>NBL</th>\n",
       "      <td>48</td>\n",
       "      <td>23</td>\n",
       "      <td>17</td>\n",
       "    </tr>\n",
       "    <tr>\n",
       "      <th>HGG</th>\n",
       "      <td>23</td>\n",
       "      <td>30</td>\n",
       "      <td>1</td>\n",
       "    </tr>\n",
       "    <tr>\n",
       "      <th>OST</th>\n",
       "      <td>19</td>\n",
       "      <td>10</td>\n",
       "      <td>15</td>\n",
       "    </tr>\n",
       "    <tr>\n",
       "      <th>BALL</th>\n",
       "      <td>21</td>\n",
       "      <td>13</td>\n",
       "      <td>0</td>\n",
       "    </tr>\n",
       "    <tr>\n",
       "      <th>EWS</th>\n",
       "      <td>10</td>\n",
       "      <td>18</td>\n",
       "      <td>2</td>\n",
       "    </tr>\n",
       "    <tr>\n",
       "      <th>ERMS</th>\n",
       "      <td>15</td>\n",
       "      <td>6</td>\n",
       "      <td>5</td>\n",
       "    </tr>\n",
       "    <tr>\n",
       "      <th>DMG</th>\n",
       "      <td>4</td>\n",
       "      <td>22</td>\n",
       "      <td>0</td>\n",
       "    </tr>\n",
       "    <tr>\n",
       "      <th>ARMS</th>\n",
       "      <td>9</td>\n",
       "      <td>11</td>\n",
       "      <td>1</td>\n",
       "    </tr>\n",
       "    <tr>\n",
       "      <th>WT</th>\n",
       "      <td>12</td>\n",
       "      <td>4</td>\n",
       "      <td>2</td>\n",
       "    </tr>\n",
       "    <tr>\n",
       "      <th>AML</th>\n",
       "      <td>4</td>\n",
       "      <td>13</td>\n",
       "      <td>0</td>\n",
       "    </tr>\n",
       "  </tbody>\n",
       "</table>\n",
       "</div>"
      ],
      "text/plain": [
       "      KiCS  ZERO  MSK\n",
       "Type                 \n",
       "NBL     48    23   17\n",
       "HGG     23    30    1\n",
       "OST     19    10   15\n",
       "BALL    21    13    0\n",
       "EWS     10    18    2\n",
       "ERMS    15     6    5\n",
       "DMG      4    22    0\n",
       "ARMS     9    11    1\n",
       "WT      12     4    2\n",
       "AML      4    13    0"
      ]
     },
     "execution_count": 15,
     "metadata": {},
     "output_type": "execute_result"
    }
   ],
   "source": [
    "kzm_types = pd.concat([kzm611_md[kzm611_md.Cohort=='KiCS'].Type.value_counts(),\n",
    "                       kzm611_md[kzm611_md.Cohort=='ZCC'].Type.value_counts(),\n",
    "                       kzm611_md[kzm611_md.Cohort=='MSK'].Type.value_counts()], axis=1)\n",
    "kzm_types.columns = ['KiCS', 'ZERO', 'MSK']\n",
    "kzm_types = kzm_types.fillna(0).astype(int)\n",
    "kzm_types['Total'] = kzm_types.sum(axis=1)\n",
    "\n",
    "kzm_types_sorted = kzm_types.sort_values(['Total'], ascending=False)\n",
    "kzm_types_sorted = kzm_types_sorted.drop(['Total'], axis=1)\n",
    "kzm_types_sorted.head(10)"
   ]
  },
  {
   "cell_type": "code",
   "execution_count": 18,
   "metadata": {},
   "outputs": [
    {
     "data": {
      "image/png": "[encoded data removed]",
      "text/plain": [
       "<Figure size 3200x1000 with 2 Axes>"
      ]
     },
     "metadata": {},
     "output_type": "display_data"
    }
   ],
   "source": [
    "fig, axes = plt.subplots(2,1, figsize=(32, 10), gridspec_kw={'height_ratios': [5, 2]}, sharex=True)\n",
    "\n",
    "ax1 = kzm611_md.Type.value_counts().plot.bar(width=0.9, align='edge', ax=axes[0])\n",
    "ax1.set_xlim(-1, len(kzm611_md.Type.value_counts()))\n",
    "old_value = 0\n",
    "for rect in ax1.patches:\n",
    "    y_value = rect.get_height()\n",
    "    x_value = rect.get_x() + rect.get_width() / 2\n",
    "    space = 1\n",
    "    label = \"{:.0f}\".format(y_value)\n",
    "    if y_value != old_value:\n",
    "        ax1.annotate(label, (x_value, y_value), xytext=(0, space), textcoords=\"offset points\", ha='center', va='bottom', size=20)\n",
    "    old_value = y_value\n",
    "\n",
    "for spine in ['top', 'right', 'left']:\n",
    "    ax1.spines[spine].set_visible(False)\n",
    "ax1.set_yticks([])\n",
    "\n",
    "\n",
    "ax2 = sns.heatmap(kzm_types_sorted.T, annot=True, fmt=\"d\", cmap=\"YlGnBu\", cbar=False, lw=1.5, ax=axes[1], annot_kws={\"fontsize\":16})\n",
    "ax2.set_xticklabels(kzm_types_sorted.index, fontsize=22)\n",
    "ax2.set_yticklabels(kzm_types_sorted.columns, fontsize=20)\n",
    "ax2.set_xlabel('')\n",
    "\n",
    "plt.tight_layout()\n",
    "plt.savefig(os.path.join(fig_out, 'ExFig_1b.pdf'))"
   ]
  },
  {
   "cell_type": "markdown",
   "metadata": {},
   "source": [
    "-----\n",
    "## Panel c"
   ]
  },
  {
   "cell_type": "code",
   "execution_count": null,
   "metadata": {},
   "outputs": [
    {
     "data": {
      "text/html": [
       "<div>\n",
       "<style scoped>\n",
       "    .dataframe tbody tr th:only-of-type {\n",
       "        vertical-align: middle;\n",
       "    }\n",
       "\n",
       "    .dataframe tbody tr th {\n",
       "        vertical-align: top;\n",
       "    }\n",
       "\n",
       "    .dataframe thead th {\n",
       "        text-align: right;\n",
       "    }\n",
       "</style>\n",
       "<table border=\"1\" class=\"dataframe\">\n",
       "  <thead>\n",
       "    <tr style=\"text-align: right;\">\n",
       "      <th></th>\n",
       "      <th>Days_from</th>\n",
       "      <th>Therapy_agents_string</th>\n",
       "    </tr>\n",
       "  </thead>\n",
       "  <tbody>\n",
       "    <tr>\n",
       "      <th>KiCS0002_321321</th>\n",
       "      <td>858.0</td>\n",
       "      <td>Etoposide_-_6;;Cisplatin _-_5;;Bleomycin_-_4;;...</td>\n",
       "    </tr>\n",
       "    <tr>\n",
       "      <th>KiCS0003_285201</th>\n",
       "      <td>0.0</td>\n",
       "      <td>NaN</td>\n",
       "    </tr>\n",
       "  </tbody>\n",
       "</table>\n",
       "</div>"
      ],
      "text/plain": [
       "                 Days_from                              Therapy_agents_string\n",
       "KiCS0002_321321      858.0  Etoposide_-_6;;Cisplatin _-_5;;Bleomycin_-_4;;...\n",
       "KiCS0003_285201        0.0                                                NaN"
      ]
     },
     "metadata": {},
     "output_type": "display_data"
    }
   ],
   "source": [
    "kzm_dates = pd.read_csv(os.path.join(root_dir, 'source_data/kzm_therapy_days.tsv'), sep='\\t', index_col=0)\n",
    "kzm_dates.head(2)"
   ]
  },
  {
   "cell_type": "code",
   "execution_count": null,
   "metadata": {},
   "outputs": [
    {
     "data": {
      "text/plain": [
       "(207, 5)"
      ]
     },
     "metadata": {},
     "output_type": "display_data"
    }
   ],
   "source": [
    "#kzm_dates['Days_from'] = kzm_dates['Days_from'].apply(lambda x : x if x > 0 else 0)\n",
    "kzm_dates = kzm_dates[kzm_dates.Days_from>0]\n",
    "kzm_dates['Therapy'] = [kzm611_md.loc[x, 'Therapy'] for x in kzm_dates.index]\n",
    "kzm_dates['Thr_State'] = [kzm611_md.loc[x, 'Thr_State'] for x in kzm_dates.index]\n",
    "kzm_dates = kzm_dates[kzm_dates.Therapy=='Post-Therapy']\n",
    "kzm_dates = kzm_dates.reset_index()\n",
    "kzm_dates.shape"
   ]
  },
  {
   "cell_type": "code",
   "execution_count": null,
   "metadata": {},
   "outputs": [
    {
     "data": {
      "image/png": "[encoded data removed]",
      "text/plain": [
       "<Figure size 400x400 with 1 Axes>"
      ]
     },
     "metadata": {},
     "output_type": "display_data"
    }
   ],
   "source": [
    "f, ax = plt.subplots(figsize=(4, 4))\n",
    "\n",
    "sns.pointplot(data=kzm_dates, x=\"Thr_State\", y=\"Days_from\", order=['Primary-Treated', 'Advanced-Treated'], estimator=np.median)\n",
    "plt.text(-0.4, kzm_dates[kzm_dates.Thr_State=='Primary-Treated'].Days_from.median(), \"%.0f\" % kzm_dates[kzm_dates.Thr_State=='Primary-Treated'].Days_from.median(), fontsize=18)\n",
    "plt.text(1.05, kzm_dates[kzm_dates.Thr_State=='Advanced-Treated'].Days_from.median(), \"%.0f\" % kzm_dates[kzm_dates.Thr_State=='Advanced-Treated'].Days_from.median(), fontsize=18)\n",
    "\n",
    "plt.xticks([0,1], ['Primary', 'Advanced'], fontsize=18)\n",
    "plt.yticks(fontsize=14)\n",
    "plt.xlabel('')\n",
    "plt.ylabel('Days between start of\\ntherapy and sampling', fontsize=18)\n",
    "ax.spines[['right', 'top']].set_visible(False)\n",
    "\n",
    "plt.savefig(os.path.join(fig_out, 'ExFig_1c.pdf'), bbox_inches=\"tight\")"
   ]
  },
  {
   "cell_type": "code",
   "execution_count": null,
   "metadata": {},
   "outputs": [],
   "source": []
  }
 ],
 "metadata": {
  "kernelspec": {
   "display_name": "ms_codes",
   "language": "python",
   "name": "python3"
  },
  "language_info": {
   "codemirror_mode": {
    "name": "ipython",
    "version": 3
   },
   "file_extension": ".py",
   "mimetype": "text/x-python",
   "name": "python",
   "nbconvert_exporter": "python",
   "pygments_lexer": "ipython3",
   "version": "3.11.6"
  },
  "orig_nbformat": 4
 },
 "nbformat": 4,
 "nbformat_minor": 2
}
