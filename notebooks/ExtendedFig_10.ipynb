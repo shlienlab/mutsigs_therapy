{
 "cells": [
  {
   "cell_type": "markdown",
   "metadata": {},
   "source": [
    "\n",
    "-----\n",
    "#### MS: Relapsed cancers in children are defined by past therapy exposure\n",
    "### Supplementary FIGURE 17\n",
    "-----"
   ]
  },
  {
   "cell_type": "code",
   "execution_count": 4,
   "metadata": {},
   "outputs": [],
   "source": [
    "import pandas as pd\n",
    "import numpy as np\n",
    "import math\n",
    "\n",
    "import matplotlib.pyplot as plt\n",
    "import seaborn as sns\n",
    "import matplotlib.patches as mpatches\n",
    "from matplotlib.lines import Line2D\n",
    "\n",
    "from upsetplot import from_contents\n",
    "from upsetplot import UpSet\n",
    "\n",
    "import os\n",
    "import sys\n",
    "\n",
    "import warnings\n",
    "warnings.filterwarnings('ignore')"
   ]
  },
  {
   "cell_type": "code",
   "execution_count": 5,
   "metadata": {},
   "outputs": [],
   "source": [
    "## Provide an output directory for figures or use 'installation_folder/figures' directory\n",
    "root_dir = os.path.dirname(os.getcwd())\n",
    "fig_out = os.path.join(root_dir, 'figures')\n",
    "## Or provide a results path\n",
    "#fig_out = '/Users/dir1/dir2/Figures'"
   ]
  },
  {
   "cell_type": "code",
   "execution_count": 6,
   "metadata": {},
   "outputs": [],
   "source": [
    "sys.path.append(str(root_dir))\n",
    "import helper_functions.utils as ut\n",
    "import helper_functions.plotter as plotter"
   ]
  },
  {
   "cell_type": "code",
   "execution_count": 7,
   "metadata": {},
   "outputs": [],
   "source": [
    "## Load patients metadata\n",
    "kzm611_md = pd.read_csv(os.path.join(root_dir, 'source_data/KZM_md.tsv'), sep='\\t', index_col=0)\n",
    "## Get low-burden samples\n",
    "low_samples = kzm611_md[kzm611_md.Burden=='low'].index.tolist()"
   ]
  },
  {
   "cell_type": "code",
   "execution_count": 8,
   "metadata": {},
   "outputs": [
    {
     "data": {
      "text/html": [
       "<div>\n",
       "<style scoped>\n",
       "    .dataframe tbody tr th:only-of-type {\n",
       "        vertical-align: middle;\n",
       "    }\n",
       "\n",
       "    .dataframe tbody tr th {\n",
       "        vertical-align: top;\n",
       "    }\n",
       "\n",
       "    .dataframe thead th {\n",
       "        text-align: right;\n",
       "    }\n",
       "</style>\n",
       "<table border=\"1\" class=\"dataframe\">\n",
       "  <thead>\n",
       "    <tr style=\"text-align: right;\">\n",
       "      <th></th>\n",
       "      <th>SBS31_early</th>\n",
       "      <th>SBS31_clonal</th>\n",
       "      <th>SBS35_clonal</th>\n",
       "      <th>SBS31_late</th>\n",
       "      <th>SBS35_late</th>\n",
       "      <th>SBS31_subc</th>\n",
       "      <th>SBS35_subc</th>\n",
       "      <th>SBS31</th>\n",
       "      <th>SBS35</th>\n",
       "      <th>clo_total</th>\n",
       "      <th>wgs_total</th>\n",
       "    </tr>\n",
       "  </thead>\n",
       "  <tbody>\n",
       "    <tr>\n",
       "      <th>I-H-108298-T1-1-D1-1</th>\n",
       "      <td>0.0</td>\n",
       "      <td>0.0</td>\n",
       "      <td>0.0</td>\n",
       "      <td>0.0</td>\n",
       "      <td>0.0</td>\n",
       "      <td>0.0</td>\n",
       "      <td>0.0</td>\n",
       "      <td>0</td>\n",
       "      <td>1868</td>\n",
       "      <td>0.0</td>\n",
       "      <td>1868</td>\n",
       "    </tr>\n",
       "    <tr>\n",
       "      <th>I-H-108319-T1-1-D1-1</th>\n",
       "      <td>0.0</td>\n",
       "      <td>0.0</td>\n",
       "      <td>916.0</td>\n",
       "      <td>0.0</td>\n",
       "      <td>0.0</td>\n",
       "      <td>587.0</td>\n",
       "      <td>0.0</td>\n",
       "      <td>0</td>\n",
       "      <td>2833</td>\n",
       "      <td>1503.0</td>\n",
       "      <td>2833</td>\n",
       "    </tr>\n",
       "  </tbody>\n",
       "</table>\n",
       "</div>"
      ],
      "text/plain": [
       "                      SBS31_early  SBS31_clonal  SBS35_clonal  SBS31_late  \\\n",
       "I-H-108298-T1-1-D1-1          0.0           0.0           0.0         0.0   \n",
       "I-H-108319-T1-1-D1-1          0.0           0.0         916.0         0.0   \n",
       "\n",
       "                      SBS35_late  SBS31_subc  SBS35_subc  SBS31  SBS35  \\\n",
       "I-H-108298-T1-1-D1-1         0.0         0.0         0.0      0   1868   \n",
       "I-H-108319-T1-1-D1-1         0.0       587.0         0.0      0   2833   \n",
       "\n",
       "                      clo_total  wgs_total  \n",
       "I-H-108298-T1-1-D1-1        0.0       1868  \n",
       "I-H-108319-T1-1-D1-1     1503.0       2833  "
      ]
     },
     "execution_count": 8,
     "metadata": {},
     "output_type": "execute_result"
    }
   ],
   "source": [
    "sbs3135 = pd.read_csv(os.path.join(root_dir, 'source_data/KZM_SBS3135_WGS_MTR.tsv'), sep='\\t', index_col=0)\n",
    "sbs3135.head(2)"
   ]
  },
  {
   "cell_type": "code",
   "execution_count": 9,
   "metadata": {},
   "outputs": [
    {
     "data": {
      "text/html": [
       "<div>\n",
       "<style scoped>\n",
       "    .dataframe tbody tr th:only-of-type {\n",
       "        vertical-align: middle;\n",
       "    }\n",
       "\n",
       "    .dataframe tbody tr th {\n",
       "        vertical-align: top;\n",
       "    }\n",
       "\n",
       "    .dataframe thead th {\n",
       "        text-align: right;\n",
       "    }\n",
       "</style>\n",
       "<table border=\"1\" class=\"dataframe\">\n",
       "  <thead>\n",
       "    <tr style=\"text-align: right;\">\n",
       "      <th></th>\n",
       "      <th>Sample_id</th>\n",
       "      <th>Patient_id</th>\n",
       "      <th>Type</th>\n",
       "      <th>Days_from</th>\n",
       "      <th>Cisplatin_dose</th>\n",
       "      <th>Carboplatin_dose</th>\n",
       "      <th>Oxaliplatin_dose</th>\n",
       "      <th>Cisplatin</th>\n",
       "      <th>Carboplatin</th>\n",
       "      <th>Oxaliplatin</th>\n",
       "    </tr>\n",
       "  </thead>\n",
       "  <tbody>\n",
       "    <tr>\n",
       "      <th>0</th>\n",
       "      <td>KiCS0002_321321</td>\n",
       "      <td>KiCS0002</td>\n",
       "      <td>GCT</td>\n",
       "      <td>858</td>\n",
       "      <td>500.0</td>\n",
       "      <td>4200.0</td>\n",
       "      <td>0</td>\n",
       "      <td>Y</td>\n",
       "      <td>Y</td>\n",
       "      <td>N</td>\n",
       "    </tr>\n",
       "    <tr>\n",
       "      <th>1</th>\n",
       "      <td>KiCS0006_274243</td>\n",
       "      <td>KiCS0006</td>\n",
       "      <td>NBL</td>\n",
       "      <td>1154</td>\n",
       "      <td>400.0</td>\n",
       "      <td>0.0</td>\n",
       "      <td>0</td>\n",
       "      <td>Y</td>\n",
       "      <td>N</td>\n",
       "      <td>N</td>\n",
       "    </tr>\n",
       "  </tbody>\n",
       "</table>\n",
       "</div>"
      ],
      "text/plain": [
       "         Sample_id Patient_id Type  Days_from  Cisplatin_dose  \\\n",
       "0  KiCS0002_321321   KiCS0002  GCT        858           500.0   \n",
       "1  KiCS0006_274243   KiCS0006  NBL       1154           400.0   \n",
       "\n",
       "   Carboplatin_dose  Oxaliplatin_dose Cisplatin Carboplatin Oxaliplatin  \n",
       "0            4200.0                 0         Y           Y           N  \n",
       "1               0.0                 0         Y           N           N  "
      ]
     },
     "execution_count": 9,
     "metadata": {},
     "output_type": "execute_result"
    }
   ],
   "source": [
    "kzm_plat_df = pd.read_csv(os.path.join(root_dir, 'source_data/KZM_plats_days_dose.txt'), sep='\\t')\n",
    "kzm_plat_df.head(2)"
   ]
  },
  {
   "cell_type": "code",
   "execution_count": 10,
   "metadata": {},
   "outputs": [],
   "source": [
    "sbs3135 = sbs3135.loc[[x for x in sbs3135.index if x in kzm_plat_df.Sample_id.tolist()]]"
   ]
  },
  {
   "cell_type": "code",
   "execution_count": 11,
   "metadata": {},
   "outputs": [],
   "source": [
    "variantsP3 = from_contents({'Early Clonal': sbs3135[sbs3135.SBS31_early>0].index.tolist(),\n",
    "                            'Clonal': sbs3135[sbs3135.SBS31_clonal+sbs3135.SBS35_clonal>0].index.tolist(),\n",
    "                            'Late Clonal': sbs3135[sbs3135.SBS31_late+sbs3135.SBS35_late>0].index.tolist(),\n",
    "                            'Subclonal': sbs3135[sbs3135.SBS31_subc+sbs3135.SBS35_subc>0].index.tolist(),\n",
    "                            'Bulk WGS': sbs3135[sbs3135.wgs_total>0].index.tolist()})"
   ]
  },
  {
   "cell_type": "code",
   "execution_count": 12,
   "metadata": {},
   "outputs": [
    {
     "data": {
      "image/png": "[encoded data removed]",
      "text/plain": [
       "<Figure size 933.333x488.889 with 4 Axes>"
      ]
     },
     "metadata": {},
     "output_type": "display_data"
    }
   ],
   "source": [
    "#fig, ax = plt.figure(figsize=(14, 10))\n",
    "\n",
    "p3 = UpSet(variantsP3, subset_size='count', show_counts=True, sort_by='cardinality')\n",
    "p3.style_subsets(present=[\"Bulk WGS\"], facecolor=\"darkblue\", label=\"Detected in Bulk\")\n",
    "p3.style_subsets(present=[\"Late Clonal\", 'Subclonal', 'Clonal'], absent=[\"Bulk WGS\"], facecolor=\"darkgrey\", edgecolor=\"darkred\", linewidth=1.5, label=\"Shared; not in Bulk\")\n",
    "p3.style_subsets(present=[\"Late Clonal\", 'Clonal'], absent=['Subclonal', \"Bulk WGS\"], facecolor=\"darkgrey\", edgecolor=\"darkred\", linewidth=1.5)\n",
    "p3.style_subsets(present=[\"Late Clonal\"], absent=[\"Bulk WGS\", 'Subclonal', 'Clonal'], facecolor=\"darkgrey\", edgecolor=\"black\", linewidth=1.5, label=\"Exclusive; not in Bulk\")\n",
    "p3.style_subsets(present=['Subclonal'], absent=[\"Bulk WGS\", \"Late Clonal\", 'Clonal'], facecolor=\"darkgrey\", edgecolor=\"black\", linewidth=1.5)\n",
    "p3.style_subsets(present=['Clonal'], absent=[\"Bulk WGS\", \"Late Clonal\", 'Subclonal'], facecolor=\"darkgrey\", edgecolor=\"black\", linewidth=1.5)\n",
    "\n",
    "params = {'legend.fontsize': 12}\n",
    "with plt.rc_context(params):\n",
    "    p3.plot()\n",
    "\n",
    "#plt.grid(b=None)\n",
    "#plt.savefig(os.path.join(fig_out, 'Clonality_SBS3135_upset_v3.pdf'), bbox_inches=\"tight\", dpi=300)"
   ]
  },
  {
   "cell_type": "code",
   "execution_count": 6,
   "metadata": {},
   "outputs": [
    {
     "data": {
      "text/plain": [
       "((448, 6), (577, 10))"
      ]
     },
     "execution_count": 6,
     "metadata": {},
     "output_type": "execute_result"
    }
   ],
   "source": [
    "KZM611_class1c_Sigs288 = pd.read_csv(os.path.join(root_dir, 'source_data/KZM_class1c_Sigs288_exposure.tsv'), sep='\\t', index_col=0)\n",
    "KZM611_class2_Sigs288 = pd.read_csv(os.path.join(root_dir, 'source_data/KZM_class2_Sigs288_exposure.tsv'), sep='\\t', index_col=0)\n",
    "\n",
    "KZM611_class2_Sigs288.shape, KZM611_class1c_Sigs288.shape"
   ]
  },
  {
   "cell_type": "code",
   "execution_count": 7,
   "metadata": {},
   "outputs": [],
   "source": [
    "KZM611_class1c_Sigs288_th = KZM611_class1c_Sigs288.copy()\n",
    "KZM611_class2_Sigs288_th = KZM611_class2_Sigs288.copy()\n",
    "\n",
    "KZM611_class1c_Sigs288_th[KZM611_class1c_Sigs288_th<25] = 0\n",
    "KZM611_class2_Sigs288_th[KZM611_class2_Sigs288_th<15] = 0"
   ]
  },
  {
   "cell_type": "code",
   "execution_count": 8,
   "metadata": {},
   "outputs": [
    {
     "data": {
      "text/html": [
       "<div>\n",
       "<style scoped>\n",
       "    .dataframe tbody tr th:only-of-type {\n",
       "        vertical-align: middle;\n",
       "    }\n",
       "\n",
       "    .dataframe tbody tr th {\n",
       "        vertical-align: top;\n",
       "    }\n",
       "\n",
       "    .dataframe thead th {\n",
       "        text-align: right;\n",
       "    }\n",
       "</style>\n",
       "<table border=\"1\" class=\"dataframe\">\n",
       "  <thead>\n",
       "    <tr style=\"text-align: right;\">\n",
       "      <th></th>\n",
       "      <th>Samples</th>\n",
       "      <th>Signatures</th>\n",
       "      <th>Mutations</th>\n",
       "    </tr>\n",
       "  </thead>\n",
       "  <tbody>\n",
       "    <tr>\n",
       "      <th>0</th>\n",
       "      <td>KiCS0002_321321</td>\n",
       "      <td>SBS1</td>\n",
       "      <td>0</td>\n",
       "    </tr>\n",
       "    <tr>\n",
       "      <th>1</th>\n",
       "      <td>KiCS0003_20_15220_A_02_00</td>\n",
       "      <td>SBS1</td>\n",
       "      <td>0</td>\n",
       "    </tr>\n",
       "    <tr>\n",
       "      <th>2</th>\n",
       "      <td>KiCS0003_285201</td>\n",
       "      <td>SBS1</td>\n",
       "      <td>0</td>\n",
       "    </tr>\n",
       "    <tr>\n",
       "      <th>3</th>\n",
       "      <td>KiCS0003_285202</td>\n",
       "      <td>SBS1</td>\n",
       "      <td>0</td>\n",
       "    </tr>\n",
       "    <tr>\n",
       "      <th>4</th>\n",
       "      <td>KiCS0005_300238</td>\n",
       "      <td>SBS1</td>\n",
       "      <td>0</td>\n",
       "    </tr>\n",
       "  </tbody>\n",
       "</table>\n",
       "</div>"
      ],
      "text/plain": [
       "                     Samples Signatures  Mutations\n",
       "0            KiCS0002_321321       SBS1          0\n",
       "1  KiCS0003_20_15220_A_02_00       SBS1          0\n",
       "2            KiCS0003_285201       SBS1          0\n",
       "3            KiCS0003_285202       SBS1          0\n",
       "4            KiCS0005_300238       SBS1          0"
      ]
     },
     "execution_count": 8,
     "metadata": {},
     "output_type": "execute_result"
    }
   ],
   "source": [
    "class1c_Sigs288 = KZM611_class1c_Sigs288_th.copy()\n",
    "class1c_Sigs288['samples'] = class1c_Sigs288.index.tolist()\n",
    "class1c_Sigs288_mlt = pd.melt(class1c_Sigs288, id_vars=['samples'], value_vars=class1c_Sigs288.columns.tolist())\n",
    "class1c_Sigs288_mlt.columns = ['Samples', 'Signatures', 'Mutations']\n",
    "class1c_Sigs288_mlt.head()"
   ]
  },
  {
   "cell_type": "code",
   "execution_count": 9,
   "metadata": {},
   "outputs": [
    {
     "data": {
      "text/html": [
       "<div>\n",
       "<style scoped>\n",
       "    .dataframe tbody tr th:only-of-type {\n",
       "        vertical-align: middle;\n",
       "    }\n",
       "\n",
       "    .dataframe tbody tr th {\n",
       "        vertical-align: top;\n",
       "    }\n",
       "\n",
       "    .dataframe thead th {\n",
       "        text-align: right;\n",
       "    }\n",
       "</style>\n",
       "<table border=\"1\" class=\"dataframe\">\n",
       "  <thead>\n",
       "    <tr style=\"text-align: right;\">\n",
       "      <th></th>\n",
       "      <th>Samples</th>\n",
       "      <th>Signatures</th>\n",
       "      <th>Mutations</th>\n",
       "    </tr>\n",
       "  </thead>\n",
       "  <tbody>\n",
       "    <tr>\n",
       "      <th>0</th>\n",
       "      <td>KiCS0002_321321</td>\n",
       "      <td>SBS1</td>\n",
       "      <td>0</td>\n",
       "    </tr>\n",
       "    <tr>\n",
       "      <th>1</th>\n",
       "      <td>KiCS0003_20_15220_A_02_00</td>\n",
       "      <td>SBS1</td>\n",
       "      <td>0</td>\n",
       "    </tr>\n",
       "    <tr>\n",
       "      <th>2</th>\n",
       "      <td>KiCS0005_300238</td>\n",
       "      <td>SBS1</td>\n",
       "      <td>0</td>\n",
       "    </tr>\n",
       "    <tr>\n",
       "      <th>3</th>\n",
       "      <td>KiCS0005_4677</td>\n",
       "      <td>SBS1</td>\n",
       "      <td>0</td>\n",
       "    </tr>\n",
       "    <tr>\n",
       "      <th>4</th>\n",
       "      <td>KiCS0007_302948</td>\n",
       "      <td>SBS1</td>\n",
       "      <td>0</td>\n",
       "    </tr>\n",
       "  </tbody>\n",
       "</table>\n",
       "</div>"
      ],
      "text/plain": [
       "                     Samples Signatures  Mutations\n",
       "0            KiCS0002_321321       SBS1          0\n",
       "1  KiCS0003_20_15220_A_02_00       SBS1          0\n",
       "2            KiCS0005_300238       SBS1          0\n",
       "3              KiCS0005_4677       SBS1          0\n",
       "4            KiCS0007_302948       SBS1          0"
      ]
     },
     "execution_count": 9,
     "metadata": {},
     "output_type": "execute_result"
    }
   ],
   "source": [
    "class2_Sigs288 = KZM611_class2_Sigs288_th.copy()\n",
    "class2_Sigs288['samples'] = class2_Sigs288.index.tolist()\n",
    "class2_Sigs288_mlt = pd.melt(class2_Sigs288, id_vars=['samples'], value_vars=class2_Sigs288.columns.tolist())\n",
    "class2_Sigs288_mlt.columns = ['Samples', 'Signatures', 'Mutations']\n",
    "class2_Sigs288_mlt.head()"
   ]
  },
  {
   "cell_type": "code",
   "execution_count": 10,
   "metadata": {},
   "outputs": [
    {
     "data": {
      "image/png": "[encoded data removed]",
      "text/plain": [
       "<Figure size 530x600 with 2 Axes>"
      ]
     },
     "metadata": {},
     "output_type": "display_data"
    }
   ],
   "source": [
    "## plotTMB_generic_v2\n",
    "plotter.plotTMB_clustered(class1c_Sigs288_mlt[['Signatures', 'Mutations']].copy(), scale='genome')\n",
    "#plt.savefig(os.path.join(fig_out, 'Supp_Omikli_SBS_snakes.pdf'), bbox_inches=\"tight\")"
   ]
  },
  {
   "cell_type": "code",
   "execution_count": 11,
   "metadata": {},
   "outputs": [
    {
     "data": {
      "text/plain": [
       "<matplotlib.legend.Legend at 0x32319f990>"
      ]
     },
     "execution_count": 11,
     "metadata": {},
     "output_type": "execute_result"
    },
    {
     "data": {
      "image/png": "[encoded data removed]",
      "text/plain": [
       "<Figure size 410x600 with 2 Axes>"
      ]
     },
     "metadata": {},
     "output_type": "display_data"
    }
   ],
   "source": [
    "## plotTMB_generic_v2\n",
    "plotter.plotTMB_clustered(class2_Sigs288_mlt[['Signatures', 'Mutations']].copy(), scale='genome')\n",
    "custom_lines = [Line2D([0], [0], color='white', marker='o', mfc=\"lavender\", ms=20),\n",
    "                Line2D([0], [0], color='white', marker='o', mfc='lightsteelblue', ms=20),\n",
    "                Line2D([0], [0], color='white', marker='o', mfc='mistyrose', ms=20),\n",
    "                Line2D([0], [0], color='white', marker='o', mfc='white', ms=20)]\n",
    "leg_labels = ['Clock-like', 'APOBEC', 'Platinum', 'Others']\n",
    "plt.legend(custom_lines, leg_labels, loc='upper right',\n",
    "          bbox_to_anchor=(1.85,1.04), ncol = 1, fontsize=14)\n",
    "#plt.savefig(os.path.join(fig_out, 'Supp_Kataegis_SBS_snakes.pdf'), bbox_inches=\"tight\")\n"
   ]
  },
  {
   "cell_type": "code",
   "execution_count": 12,
   "metadata": {},
   "outputs": [
    {
     "data": {
      "application/vnd.plotly.v1+json": {
       "config": {
        "plotlyServerURL": "https://plot.ly"
       },
       "data": [
        {
         "cells": {
          "align": "center",
          "fill": {
           "color": "lightcyan"
          },
          "height": 30,
          "line": {
           "color": "darkslategray"
          },
          "values": [
           [
            "I-H-134733-T3-2-D1-1",
            "IID_H158223_T01_01_WG01",
            "KiCS0008_289185"
           ],
           [
            "✓",
            "✓",
            "✓"
           ],
           [
            "✕",
            "✕",
            "✕"
           ],
           [
            "✓",
            "✓",
            "✕"
           ],
           [
            "✓",
            "✕",
            "✓"
           ],
           [
            "✓",
            "✓",
            "✕"
           ],
           [
            "✓",
            "✕",
            "✕"
           ]
          ]
         },
         "columnwidth": [
          3,
          1,
          1,
          1,
          1,
          1,
          1
         ],
         "header": {
          "align": "center",
          "fill": {
           "color": "lightskyblue"
          },
          "line": {
           "color": "darkslategray",
           "width": [
            0,
            1,
            0,
            0,
            0,
            0
           ]
          },
          "values": [
           [
            "",
            "Sample"
           ],
           [
            "Omikli",
            "SBS31/35"
           ],
           [
            "",
            "SBS31/35"
           ],
           [
            "",
            "SBS288L5"
           ],
           [
            "WGS",
            "DBS5/2"
           ],
           [
            "",
            "DBS78H2"
           ],
           [
            "",
            "ID3"
           ]
          ]
         },
         "type": "table"
        }
       ],
       "layout": {
        "height": 400,
        "template": {
         "data": {
          "bar": [
           {
            "error_x": {
             "color": "#2a3f5f"
            },
            "error_y": {
             "color": "#2a3f5f"
            },
            "marker": {
             "line": {
              "color": "#E5ECF6",
              "width": 0.5
             },
             "pattern": {
              "fillmode": "overlay",
              "size": 10,
              "solidity": 0.2
             }
            },
            "type": "bar"
           }
          ],
          "barpolar": [
           {
            "marker": {
             "line": {
              "color": "#E5ECF6",
              "width": 0.5
             },
             "pattern": {
              "fillmode": "overlay",
              "size": 10,
              "solidity": 0.2
             }
            },
            "type": "barpolar"
           }
          ],
          "carpet": [
           {
            "aaxis": {
             "endlinecolor": "#2a3f5f",
             "gridcolor": "white",
             "linecolor": "white",
             "minorgridcolor": "white",
             "startlinecolor": "#2a3f5f"
            },
            "baxis": {
             "endlinecolor": "#2a3f5f",
             "gridcolor": "white",
             "linecolor": "white",
             "minorgridcolor": "white",
             "startlinecolor": "#2a3f5f"
            },
            "type": "carpet"
           }
          ],
          "choropleth": [
           {
            "colorbar": {
             "outlinewidth": 0,
             "ticks": ""
            },
            "type": "choropleth"
           }
          ],
          "contour": [
           {
            "colorbar": {
             "outlinewidth": 0,
             "ticks": ""
            },
            "colorscale": [
             [
              0,
              "#0d0887"
             ],
             [
              0.1111111111111111,
              "#46039f"
             ],
             [
              0.2222222222222222,
              "#7201a8"
             ],
             [
              0.3333333333333333,
              "#9c179e"
             ],
             [
              0.4444444444444444,
              "#bd3786"
             ],
             [
              0.5555555555555556,
              "#d8576b"
             ],
             [
              0.6666666666666666,
              "#ed7953"
             ],
             [
              0.7777777777777778,
              "#fb9f3a"
             ],
             [
              0.8888888888888888,
              "#fdca26"
             ],
             [
              1,
              "#f0f921"
             ]
            ],
            "type": "contour"
           }
          ],
          "contourcarpet": [
           {
            "colorbar": {
             "outlinewidth": 0,
             "ticks": ""
            },
            "type": "contourcarpet"
           }
          ],
          "heatmap": [
           {
            "colorbar": {
             "outlinewidth": 0,
             "ticks": ""
            },
            "colorscale": [
             [
              0,
              "#0d0887"
             ],
             [
              0.1111111111111111,
              "#46039f"
             ],
             [
              0.2222222222222222,
              "#7201a8"
             ],
             [
              0.3333333333333333,
              "#9c179e"
             ],
             [
              0.4444444444444444,
              "#bd3786"
             ],
             [
              0.5555555555555556,
              "#d8576b"
             ],
             [
              0.6666666666666666,
              "#ed7953"
             ],
             [
              0.7777777777777778,
              "#fb9f3a"
             ],
             [
              0.8888888888888888,
              "#fdca26"
             ],
             [
              1,
              "#f0f921"
             ]
            ],
            "type": "heatmap"
           }
          ],
          "heatmapgl": [
           {
            "colorbar": {
             "outlinewidth": 0,
             "ticks": ""
            },
            "colorscale": [
             [
              0,
              "#0d0887"
             ],
             [
              0.1111111111111111,
              "#46039f"
             ],
             [
              0.2222222222222222,
              "#7201a8"
             ],
             [
              0.3333333333333333,
              "#9c179e"
             ],
             [
              0.4444444444444444,
              "#bd3786"
             ],
             [
              0.5555555555555556,
              "#d8576b"
             ],
             [
              0.6666666666666666,
              "#ed7953"
             ],
             [
              0.7777777777777778,
              "#fb9f3a"
             ],
             [
              0.8888888888888888,
              "#fdca26"
             ],
             [
              1,
              "#f0f921"
             ]
            ],
            "type": "heatmapgl"
           }
          ],
          "histogram": [
           {
            "marker": {
             "pattern": {
              "fillmode": "overlay",
              "size": 10,
              "solidity": 0.2
             }
            },
            "type": "histogram"
           }
          ],
          "histogram2d": [
           {
            "colorbar": {
             "outlinewidth": 0,
             "ticks": ""
            },
            "colorscale": [
             [
              0,
              "#0d0887"
             ],
             [
              0.1111111111111111,
              "#46039f"
             ],
             [
              0.2222222222222222,
              "#7201a8"
             ],
             [
              0.3333333333333333,
              "#9c179e"
             ],
             [
              0.4444444444444444,
              "#bd3786"
             ],
             [
              0.5555555555555556,
              "#d8576b"
             ],
             [
              0.6666666666666666,
              "#ed7953"
             ],
             [
              0.7777777777777778,
              "#fb9f3a"
             ],
             [
              0.8888888888888888,
              "#fdca26"
             ],
             [
              1,
              "#f0f921"
             ]
            ],
            "type": "histogram2d"
           }
          ],
          "histogram2dcontour": [
           {
            "colorbar": {
             "outlinewidth": 0,
             "ticks": ""
            },
            "colorscale": [
             [
              0,
              "#0d0887"
             ],
             [
              0.1111111111111111,
              "#46039f"
             ],
             [
              0.2222222222222222,
              "#7201a8"
             ],
             [
              0.3333333333333333,
              "#9c179e"
             ],
             [
              0.4444444444444444,
              "#bd3786"
             ],
             [
              0.5555555555555556,
              "#d8576b"
             ],
             [
              0.6666666666666666,
              "#ed7953"
             ],
             [
              0.7777777777777778,
              "#fb9f3a"
             ],
             [
              0.8888888888888888,
              "#fdca26"
             ],
             [
              1,
              "#f0f921"
             ]
            ],
            "type": "histogram2dcontour"
           }
          ],
          "mesh3d": [
           {
            "colorbar": {
             "outlinewidth": 0,
             "ticks": ""
            },
            "type": "mesh3d"
           }
          ],
          "parcoords": [
           {
            "line": {
             "colorbar": {
              "outlinewidth": 0,
              "ticks": ""
             }
            },
            "type": "parcoords"
           }
          ],
          "pie": [
           {
            "automargin": true,
            "type": "pie"
           }
          ],
          "scatter": [
           {
            "fillpattern": {
             "fillmode": "overlay",
             "size": 10,
             "solidity": 0.2
            },
            "type": "scatter"
           }
          ],
          "scatter3d": [
           {
            "line": {
             "colorbar": {
              "outlinewidth": 0,
              "ticks": ""
             }
            },
            "marker": {
             "colorbar": {
              "outlinewidth": 0,
              "ticks": ""
             }
            },
            "type": "scatter3d"
           }
          ],
          "scattercarpet": [
           {
            "marker": {
             "colorbar": {
              "outlinewidth": 0,
              "ticks": ""
             }
            },
            "type": "scattercarpet"
           }
          ],
          "scattergeo": [
           {
            "marker": {
             "colorbar": {
              "outlinewidth": 0,
              "ticks": ""
             }
            },
            "type": "scattergeo"
           }
          ],
          "scattergl": [
           {
            "marker": {
             "colorbar": {
              "outlinewidth": 0,
              "ticks": ""
             }
            },
            "type": "scattergl"
           }
          ],
          "scattermapbox": [
           {
            "marker": {
             "colorbar": {
              "outlinewidth": 0,
              "ticks": ""
             }
            },
            "type": "scattermapbox"
           }
          ],
          "scatterpolar": [
           {
            "marker": {
             "colorbar": {
              "outlinewidth": 0,
              "ticks": ""
             }
            },
            "type": "scatterpolar"
           }
          ],
          "scatterpolargl": [
           {
            "marker": {
             "colorbar": {
              "outlinewidth": 0,
              "ticks": ""
             }
            },
            "type": "scatterpolargl"
           }
          ],
          "scatterternary": [
           {
            "marker": {
             "colorbar": {
              "outlinewidth": 0,
              "ticks": ""
             }
            },
            "type": "scatterternary"
           }
          ],
          "surface": [
           {
            "colorbar": {
             "outlinewidth": 0,
             "ticks": ""
            },
            "colorscale": [
             [
              0,
              "#0d0887"
             ],
             [
              0.1111111111111111,
              "#46039f"
             ],
             [
              0.2222222222222222,
              "#7201a8"
             ],
             [
              0.3333333333333333,
              "#9c179e"
             ],
             [
              0.4444444444444444,
              "#bd3786"
             ],
             [
              0.5555555555555556,
              "#d8576b"
             ],
             [
              0.6666666666666666,
              "#ed7953"
             ],
             [
              0.7777777777777778,
              "#fb9f3a"
             ],
             [
              0.8888888888888888,
              "#fdca26"
             ],
             [
              1,
              "#f0f921"
             ]
            ],
            "type": "surface"
           }
          ],
          "table": [
           {
            "cells": {
             "fill": {
              "color": "#EBF0F8"
             },
             "line": {
              "color": "white"
             }
            },
            "header": {
             "fill": {
              "color": "#C8D4E3"
             },
             "line": {
              "color": "white"
             }
            },
            "type": "table"
           }
          ]
         },
         "layout": {
          "annotationdefaults": {
           "arrowcolor": "#2a3f5f",
           "arrowhead": 0,
           "arrowwidth": 1
          },
          "autotypenumbers": "strict",
          "coloraxis": {
           "colorbar": {
            "outlinewidth": 0,
            "ticks": ""
           }
          },
          "colorscale": {
           "diverging": [
            [
             0,
             "#8e0152"
            ],
            [
             0.1,
             "#c51b7d"
            ],
            [
             0.2,
             "#de77ae"
            ],
            [
             0.3,
             "#f1b6da"
            ],
            [
             0.4,
             "#fde0ef"
            ],
            [
             0.5,
             "#f7f7f7"
            ],
            [
             0.6,
             "#e6f5d0"
            ],
            [
             0.7,
             "#b8e186"
            ],
            [
             0.8,
             "#7fbc41"
            ],
            [
             0.9,
             "#4d9221"
            ],
            [
             1,
             "#276419"
            ]
           ],
           "sequential": [
            [
             0,
             "#0d0887"
            ],
            [
             0.1111111111111111,
             "#46039f"
            ],
            [
             0.2222222222222222,
             "#7201a8"
            ],
            [
             0.3333333333333333,
             "#9c179e"
            ],
            [
             0.4444444444444444,
             "#bd3786"
            ],
            [
             0.5555555555555556,
             "#d8576b"
            ],
            [
             0.6666666666666666,
             "#ed7953"
            ],
            [
             0.7777777777777778,
             "#fb9f3a"
            ],
            [
             0.8888888888888888,
             "#fdca26"
            ],
            [
             1,
             "#f0f921"
            ]
           ],
           "sequentialminus": [
            [
             0,
             "#0d0887"
            ],
            [
             0.1111111111111111,
             "#46039f"
            ],
            [
             0.2222222222222222,
             "#7201a8"
            ],
            [
             0.3333333333333333,
             "#9c179e"
            ],
            [
             0.4444444444444444,
             "#bd3786"
            ],
            [
             0.5555555555555556,
             "#d8576b"
            ],
            [
             0.6666666666666666,
             "#ed7953"
            ],
            [
             0.7777777777777778,
             "#fb9f3a"
            ],
            [
             0.8888888888888888,
             "#fdca26"
            ],
            [
             1,
             "#f0f921"
            ]
           ]
          },
          "colorway": [
           "#636efa",
           "#EF553B",
           "#00cc96",
           "#ab63fa",
           "#FFA15A",
           "#19d3f3",
           "#FF6692",
           "#B6E880",
           "#FF97FF",
           "#FECB52"
          ],
          "font": {
           "color": "#2a3f5f"
          },
          "geo": {
           "bgcolor": "white",
           "lakecolor": "white",
           "landcolor": "#E5ECF6",
           "showlakes": true,
           "showland": true,
           "subunitcolor": "white"
          },
          "hoverlabel": {
           "align": "left"
          },
          "hovermode": "closest",
          "mapbox": {
           "style": "light"
          },
          "paper_bgcolor": "white",
          "plot_bgcolor": "#E5ECF6",
          "polar": {
           "angularaxis": {
            "gridcolor": "white",
            "linecolor": "white",
            "ticks": ""
           },
           "bgcolor": "#E5ECF6",
           "radialaxis": {
            "gridcolor": "white",
            "linecolor": "white",
            "ticks": ""
           }
          },
          "scene": {
           "xaxis": {
            "backgroundcolor": "#E5ECF6",
            "gridcolor": "white",
            "gridwidth": 2,
            "linecolor": "white",
            "showbackground": true,
            "ticks": "",
            "zerolinecolor": "white"
           },
           "yaxis": {
            "backgroundcolor": "#E5ECF6",
            "gridcolor": "white",
            "gridwidth": 2,
            "linecolor": "white",
            "showbackground": true,
            "ticks": "",
            "zerolinecolor": "white"
           },
           "zaxis": {
            "backgroundcolor": "#E5ECF6",
            "gridcolor": "white",
            "gridwidth": 2,
            "linecolor": "white",
            "showbackground": true,
            "ticks": "",
            "zerolinecolor": "white"
           }
          },
          "shapedefaults": {
           "line": {
            "color": "#2a3f5f"
           }
          },
          "ternary": {
           "aaxis": {
            "gridcolor": "white",
            "linecolor": "white",
            "ticks": ""
           },
           "baxis": {
            "gridcolor": "white",
            "linecolor": "white",
            "ticks": ""
           },
           "bgcolor": "#E5ECF6",
           "caxis": {
            "gridcolor": "white",
            "linecolor": "white",
            "ticks": ""
           }
          },
          "title": {
           "x": 0.05
          },
          "xaxis": {
           "automargin": true,
           "gridcolor": "white",
           "linecolor": "white",
           "ticks": "",
           "title": {
            "standoff": 15
           },
           "zerolinecolor": "white",
           "zerolinewidth": 2
          },
          "yaxis": {
           "automargin": true,
           "gridcolor": "white",
           "linecolor": "white",
           "ticks": "",
           "title": {
            "standoff": 15
           },
           "zerolinecolor": "white",
           "zerolinewidth": 2
          }
         }
        },
        "width": 1000
       }
      }
     },
     "metadata": {},
     "output_type": "display_data"
    }
   ],
   "source": [
    "import plotly.graph_objects as go\n",
    "\n",
    "fig = go.Figure(data=[go.Table(\n",
    "               columnwidth=[3,1,1,1,1,1,1],\n",
    "    header=dict(values=[['', 'Sample'],\n",
    "                        ['Omikli', 'SBS31/35'],\n",
    "                        ['', 'SBS31/35'],\n",
    "                        ['', 'SBS288L5'],\n",
    "                        ['WGS', 'DBS5/2'],\n",
    "                        ['', 'DBS78H2'],\n",
    "                        ['', 'ID3']],\n",
    "                line = dict(width=[0,1,0,0,0,0]),\n",
    "                line_color='darkslategray',\n",
    "                fill_color='lightskyblue',\n",
    "                align='center'),\n",
    "    cells=dict(values=[['I-H-134733-T3-2-D1-1', 'IID_H158223_T01_01_WG01', 'KiCS0008_289185'], # 1st column\n",
    "                       [\"✓\", \"✓\", \"✓\"],\n",
    "                       [\"✕\", \"✕\", \"✕\"],\n",
    "                       [\"✓\", \"✓\", \"✕\"],\n",
    "                       [\"✓\", \"✕\", \"✓\"],\n",
    "                       [\"✓\", \"✓\", \"✕\"],\n",
    "                       [\"✓\", \"✕\", \"✕\"]], # 2nd column\n",
    "                height=30,\n",
    "               line_color='darkslategray',\n",
    "               fill_color='lightcyan',\n",
    "               align='center'))\n",
    "])\n",
    "\n",
    "fig.update_layout(width=1000, height=400)\n",
    "fig.show()\n",
    "#fig.write_image(os.path.join(fig_out, \"cluster_table.pdf\"))"
   ]
  },
  {
   "cell_type": "code",
   "execution_count": 13,
   "metadata": {},
   "outputs": [],
   "source": [
    "top_types = kzm611_md.Type.value_counts()[kzm611_md.Type.value_counts()>9].index.tolist()"
   ]
  },
  {
   "cell_type": "code",
   "execution_count": 14,
   "metadata": {},
   "outputs": [
    {
     "data": {
      "text/plain": [
       "Class\n",
       "NonClustered    1685590\n",
       "Clustered        185724\n",
       "Name: count, dtype: int64"
      ]
     },
     "execution_count": 14,
     "metadata": {},
     "output_type": "execute_result"
    }
   ],
   "source": [
    "clust_df = pd.read_csv(os.path.join(root_dir, 'source_data/KZM_clustered_mutations.tsv'), sep='\\t')\n",
    "clust_df = clust_df[clust_df.Type.isin(top_types)]\n",
    "clust_df.Class.value_counts()"
   ]
  },
  {
   "cell_type": "code",
   "execution_count": 15,
   "metadata": {},
   "outputs": [
    {
     "data": {
      "text/html": [
       "<div>\n",
       "<style scoped>\n",
       "    .dataframe tbody tr th:only-of-type {\n",
       "        vertical-align: middle;\n",
       "    }\n",
       "\n",
       "    .dataframe tbody tr th {\n",
       "        vertical-align: top;\n",
       "    }\n",
       "\n",
       "    .dataframe thead th {\n",
       "        text-align: right;\n",
       "    }\n",
       "</style>\n",
       "<table border=\"1\" class=\"dataframe\">\n",
       "  <thead>\n",
       "    <tr style=\"text-align: right;\">\n",
       "      <th></th>\n",
       "      <th>Type</th>\n",
       "      <th>Sample</th>\n",
       "      <th>Cluster</th>\n",
       "      <th>Mutations</th>\n",
       "    </tr>\n",
       "  </thead>\n",
       "  <tbody>\n",
       "    <tr>\n",
       "      <th>0</th>\n",
       "      <td>AML</td>\n",
       "      <td>KiCS0149_316368</td>\n",
       "      <td>Clustered</td>\n",
       "      <td>122</td>\n",
       "    </tr>\n",
       "    <tr>\n",
       "      <th>1</th>\n",
       "      <td>AML</td>\n",
       "      <td>KiCS0170_320432</td>\n",
       "      <td>Clustered</td>\n",
       "      <td>114</td>\n",
       "    </tr>\n",
       "  </tbody>\n",
       "</table>\n",
       "</div>"
      ],
      "text/plain": [
       "  Type           Sample    Cluster  Mutations\n",
       "0  AML  KiCS0149_316368  Clustered        122\n",
       "1  AML  KiCS0170_320432  Clustered        114"
      ]
     },
     "execution_count": 15,
     "metadata": {},
     "output_type": "execute_result"
    }
   ],
   "source": [
    "clust_top_counts = pd.DataFrame(clust_df[clust_df.Class=='Clustered'].groupby(['Type', 'sampleID'])['sampleID'].count())\n",
    "noncl_top_counts = pd.DataFrame(clust_df[clust_df.Class=='NonClustered'].groupby(['Type', 'sampleID'])['sampleID'].count())\n",
    "top_counts = pd.concat([clust_top_counts, noncl_top_counts], axis=1)\n",
    "top_counts.columns = ['Clustered', 'NonClustered']\n",
    "top_counts = top_counts.reset_index(level=['Type', 'sampleID'])\n",
    "top_counts_mlt = pd.melt(top_counts, id_vars=['Type', 'sampleID'], value_vars=['Clustered', 'NonClustered'])\n",
    "top_counts_mlt.columns = ['Type', 'Sample', 'Cluster', 'Mutations']\n",
    "\n",
    "top_counts_mlt.head(2)"
   ]
  },
  {
   "cell_type": "code",
   "execution_count": 16,
   "metadata": {},
   "outputs": [
    {
     "data": {
      "image/png": "[encoded data removed]",
      "text/plain": [
       "<Figure size 1800x600 with 2 Axes>"
      ]
     },
     "metadata": {},
     "output_type": "display_data"
    }
   ],
   "source": [
    "fig, axes = plt.subplots(2,1, figsize=(18, 6), sharex=True)\n",
    "\n",
    "ax1 = sns.stripplot(data=top_counts_mlt, y=\"Mutations\", x=\"Type\", hue=\"Cluster\", dodge=True, ax=axes[0])\n",
    "ax1.set_ylim(2000,25000)\n",
    "ax1.set_xlabel('')\n",
    "ax1.set_ylabel('')\n",
    "ax1.spines[['right', 'top', 'bottom']].set_visible(False)\n",
    "ax1.xaxis.set_ticks_position('none')\n",
    "\n",
    "for i, ct in enumerate(top_counts_mlt.Type.unique()):\n",
    "    subd = top_counts_mlt[top_counts_mlt.Type==ct]\n",
    "    ratios = []\n",
    "    for sam in subd.Sample.unique():\n",
    "        ratios.append(subd.loc[(subd.Cluster=='Clustered') & (subd.Sample==sam), 'Mutations'].values[0] / \\\n",
    "                      (subd.loc[(subd.Cluster=='NonClustered') & (subd.Sample==sam), 'Mutations'].values[0] + \\\n",
    "                      subd.loc[(subd.Cluster=='Clustered') & (subd.Sample==sam), 'Mutations'].values[0])\n",
    "                     )\n",
    "\n",
    "    ratio = np.mean(ratios)\n",
    "    '''ratio = top_counts_mlt[(top_counts_mlt.Type==ct) & (top_counts_mlt.Cluster=='Clustered')].Mutations.sum() / \\\n",
    "            top_counts_mlt[(top_counts_mlt.Type==ct) & (top_counts_mlt.Cluster=='NonClustered')].Mutations.sum()'''\n",
    "    ax1.text(i-0.25, 25000, '%0.2f'%ratio, fontsize=16)\n",
    "    #ax1.text(i-0.25, 25000, '_____')\n",
    "    \n",
    "    ax1.plot\n",
    "\n",
    "for i, ct in enumerate(top_counts_mlt.Type.unique()):\n",
    "    subd = top_counts_mlt[top_counts_mlt.Type==ct]\n",
    "    ratios = []\n",
    "    for sam in subd.Sample.unique():\n",
    "        if subd.loc[(subd.Cluster=='Clustered') & (subd.Sample==sam), 'Mutations'].values[0] > 2000:\n",
    "            continue\n",
    "        ratios.append(subd.loc[(subd.Cluster=='Clustered') & (subd.Sample==sam), 'Mutations'].values[0] / \\\n",
    "                      (subd.loc[(subd.Cluster=='NonClustered') & (subd.Sample==sam), 'Mutations'].values[0] + \\\n",
    "                      subd.loc[(subd.Cluster=='Clustered') & (subd.Sample==sam), 'Mutations'].values[0])\n",
    "                     )\n",
    "\n",
    "    ratio = np.mean(ratios)\n",
    "    '''ratio = top_counts_mlt[(top_counts_mlt.Type==ct) & (top_counts_mlt.Cluster=='Clustered')].Mutations.sum() / \\\n",
    "            top_counts_mlt[(top_counts_mlt.Type==ct) & (top_counts_mlt.Cluster=='NonClustered')].Mutations.sum()'''\n",
    "    ax1.text(i-0.25, 22000, '%0.2f'%ratio, fontsize=16)\n",
    "    \n",
    "ax1.text(i+0.75, 25000, 'All Samples', fontsize=16)\n",
    "ax1.text(i+0.75, 22000, 'Without Outliers', fontsize=16)\n",
    "ax1.legend(bbox_to_anchor=(1.145, 0.5), loc='center right', title='', fontsize=16, frameon=False)\n",
    "ax1.axhline(y = 24500, xmin=0.03, xmax=0.96, color =\"darkgreen\", linestyle =\"--\")\n",
    "\n",
    "ax2 = sns.stripplot(data=top_counts_mlt, y=\"Mutations\", x=\"Type\", hue=\"Cluster\", dodge=True, ax=axes[1])\n",
    "ax2.set_ylim(0,2000)\n",
    "ax2.spines[['right', 'top']].set_visible(False)\n",
    "ax2.get_legend().remove()\n",
    "ax2.set_ylabel('Mutations', ha='center', y=1, fontsize=18)\n",
    "\n",
    "d = .005\n",
    "kwargs = dict(transform=axes[0].transAxes, color='k', clip_on=False)\n",
    "axes[0].plot((-d,+d),(-d,+d), **kwargs)\n",
    "kwargs.update(transform=axes[1].transAxes)\n",
    "axes[1].plot((-d,+d),(1-d,1+d), **kwargs)\n",
    "\n",
    "plt.xlabel('')\n",
    "plt.xticks(fontsize=18)\n",
    "plt.subplots_adjust(hspace=0.025)\n",
    "\n",
    "#plt.savefig(os.path.join(fig_out, 'KZM611_clustered_vs_nonclustered_types_v4.pdf'), bbox_inches=\"tight\")"
   ]
  },
  {
   "cell_type": "code",
   "execution_count": null,
   "metadata": {},
   "outputs": [],
   "source": []
  },
  {
   "cell_type": "code",
   "execution_count": null,
   "metadata": {},
   "outputs": [],
   "source": []
  }
 ],
 "metadata": {
  "kernelspec": {
   "display_name": "ms_codes",
   "language": "python",
   "name": "python3"
  },
  "language_info": {
   "codemirror_mode": {
    "name": "ipython",
    "version": 3
   },
   "file_extension": ".py",
   "mimetype": "text/x-python",
   "name": "python",
   "nbconvert_exporter": "python",
   "pygments_lexer": "ipython3",
   "version": "3.11.6"
  },
  "orig_nbformat": 4
 },
 "nbformat": 4,
 "nbformat_minor": 2
}
